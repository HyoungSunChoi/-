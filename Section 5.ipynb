{
 "cells": [
  {
   "cell_type": "markdown",
   "metadata": {},
   "source": [
    "# 1. 가장 큰 수\n",
    "- 5276823 이 주어지고 3개의 자릿수를 제거한다면\n",
    "- 7823 이 가장 큰 숫자가 된다"
   ]
  },
  {
   "cell_type": "code",
   "execution_count": null,
   "metadata": {},
   "outputs": [],
   "source": [
    "num, m = map(int,input().split())\n",
    "num=list(map(int,str(num)))\n",
    "stack=[]\n",
    "for x in num:\n",
    "    while stack and m>0 and stack[-1]<x:\n",
    "        stack.pop()\n",
    "        m-=1\n",
    "    stack.append(x)\n",
    "if m!=0:\n",
    "    stack=stack[:-m]\n",
    "res=''.join(map(str,stack))\n",
    "print(res)"
   ]
  }
 ],
 "metadata": {
  "kernelspec": {
   "display_name": "Python 3",
   "language": "python",
   "name": "python3"
  },
  "language_info": {
   "codemirror_mode": {
    "name": "ipython",
    "version": 3
   },
   "file_extension": ".py",
   "mimetype": "text/x-python",
   "name": "python",
   "nbconvert_exporter": "python",
   "pygments_lexer": "ipython3",
   "version": "3.8.3"
  }
 },
 "nbformat": 4,
 "nbformat_minor": 4
}
