{
 "cells": [
  {
   "cell_type": "markdown",
   "metadata": {},
   "source": [
    "### 1. k 번째 약수\n",
    "- N의 약수들 중 K번째로 작은 수를 출력하는 프로그램"
   ]
  },
  {
   "cell_type": "code",
   "execution_count": 3,
   "metadata": {},
   "outputs": [
    {
     "name": "stdout",
     "output_type": "stream",
     "text": [
      "6 3\n",
      "3\n"
     ]
    }
   ],
   "source": [
    "import sys\n",
    "n,k = map(int,input().split())\n",
    "a=[]\n",
    "for i in range(1,n+1):\n",
    "    if n%i==0:\n",
    "        a.append(i)\n",
    "if k<=len(a):\n",
    "    print(a[k-1])\n",
    "else:\n",
    "    print(-1)"
   ]
  },
  {
   "cell_type": "code",
   "execution_count": null,
   "metadata": {},
   "outputs": [],
   "source": [
    "import sys\n",
    "n,k = map(int,input().split())\n",
    "cnt=0\n",
    "for i in range(1,n+1):\n",
    "    if n%i==0:\n",
    "        cnt+=1\n",
    "    if cnt==k:\n",
    "        print(i)\n",
    "        break\n",
    "else:\n",
    "    print(-1)"
   ]
  },
  {
   "cell_type": "markdown",
   "metadata": {},
   "source": [
    "### 2. k 번째 수\n",
    "- N개의 숫자로 이루어진 숫자열 주어지면 해당 숫자열에서 오름차순 정렬시키고 s~e 번째까지 수 중 k 번째 숫자 출력"
   ]
  },
  {
   "cell_type": "code",
   "execution_count": 2,
   "metadata": {},
   "outputs": [
    {
     "name": "stdout",
     "output_type": "stream",
     "text": [
      "2\n",
      "6 2 5 3\n",
      "5 2 7 3 8 9\n",
      "#1 7\n",
      "15 3 10 3\n",
      "4 15 8 16 6 6 17 3 10 11 18 7 14 7 15\n",
      "#2 6\n"
     ]
    }
   ],
   "source": [
    "import sys\n",
    "\n",
    "T=int(input())\n",
    "for t in range(T):\n",
    "    n,s,e,k=map(int,input().split())\n",
    "    a=list(map(int,input().split()))\n",
    "    a=a[s-1:e]\n",
    "    a.sort()\n",
    "    print('#%d %d'%(t+1,a[k-1]))"
   ]
  },
  {
   "cell_type": "markdown",
   "metadata": {},
   "source": [
    "### 3. k 번째 큰 수\n",
    "- 1-100 자연수가 적힌 N 장의 카드\n",
    "- 이중 3장을 뽑아 각 카드에 적힌 수를 합한 값 기록\n",
    "- 3장 뽑을 수 있는 모든 경우를 기록\n",
    "- 기록한 값 중 k 번째로 큰 수 출력"
   ]
  },
  {
   "cell_type": "code",
   "execution_count": 5,
   "metadata": {},
   "outputs": [
    {
     "name": "stdout",
     "output_type": "stream",
     "text": [
      "10 3\n",
      "13 15 34 23 45 65 33 11 26 42\n",
      "143\n"
     ]
    }
   ],
   "source": [
    "import sys\n",
    "\n",
    "n,k=map(int,input().split())\n",
    "a=list(map(int,input().split()))\n",
    "lst=set()\n",
    "for i in range(n):\n",
    "    for j in range(i+1,n):\n",
    "        for x in range(j+1,n):      # i+2 를 할경우 첫번째 포문 이후 두번째 j 와 x 가 겹쳐서 오답!!!\n",
    "            lst.add(a[i]+a[j]+a[x])   \n",
    "lst=list(lst)\n",
    "lst.sort(reverse=True)\n",
    "print(lst[k-1])"
   ]
  },
  {
   "cell_type": "markdown",
   "metadata": {},
   "source": [
    "### 4. 대표값\n",
    "- N 명의 학생 점수 주어짐\n",
    "- N 명의 평균(소수 첫째자리 반올림), N명의 학생 중 평균에 가까운 학생은 몇 번째 학생인지 출력\n",
    "- 평균과 가장 가까운 점수가 여러개면 점수가 높은 학생번호\n",
    "- 높은 점수를 가진 학생이 여러명이면 학생번호가 빠른 학생번호 출력"
   ]
  },
  {
   "cell_type": "code",
   "execution_count": 2,
   "metadata": {},
   "outputs": [
    {
     "name": "stdout",
     "output_type": "stream",
     "text": [
      "20\n",
      "13 34 17 6 11 15 27 42 39 31 25 36 32 25 17 45 67 89 24 65\n",
      "33 2\n"
     ]
    }
   ],
   "source": [
    "import sys\n",
    "\n",
    "n=int(input())\n",
    "a=list(map(int, input().split()))\n",
    "avg=round(sum(a)/n)\n",
    "res=9999\n",
    "score=0 # 평균과 가장 가까운 점수\n",
    "stuno=0 # 학생번호\n",
    "for i in range(n):\n",
    "    tmp=abs(a[i]-avg)\n",
    "    if tmp<res: # 평균과 가장 가까운 점수 구하기\n",
    "        res=tmp\n",
    "        score=a[i]\n",
    "        stuno=i+1\n",
    "    if tmp==res:     \n",
    "        if score<a[i]: # 평균과 가까운 점수가 여러개일 경우 점수가 높은 학생이 답\n",
    "            score=a[i] \n",
    "            stuno=i+1\n",
    "print(avg,stuno)\n"
   ]
  },
  {
   "cell_type": "code",
   "execution_count": null,
   "metadata": {},
   "outputs": [],
   "source": [
    "N=int(input())\n",
    "a=list(map(int,input().split()))\n",
    "avg=round(sum(a)/N,1)\n",
    "min=9999\n",
    "for idx,x in enumerate(a):\n",
    "    tmp=abs(x-avg)\n",
    "    if tmp<min: # 평균값에서 가장 가까운 점수인 학생 찾기\n",
    "        min=tmp\n",
    "        score=x\n",
    "        res=idx+1\n",
    "    elif tmp==min: # 높은 점수를 가진 학생이 여러명이면 \n",
    "        if x>score:\n",
    "            score=x\n",
    "            res=idx+1\n",
    "        "
   ]
  },
  {
   "cell_type": "markdown",
   "metadata": {},
   "source": [
    "### 5. 정다면체\n",
    "- 두개의 정 N면체와 정 M 면체의 주사위를 던져서 나올 수 있는 눈의 합 중 가장 확률이 높은 숫자\n",
    "- 정답이 여러 개일 경우 오름차순으로 출력하기"
   ]
  },
  {
   "cell_type": "code",
   "execution_count": null,
   "metadata": {},
   "outputs": [],
   "source": [
    "import sys\n",
    "\n",
    "n,m=map(int,input().split())\n",
    "a=[0]*(n+m+1)\n",
    "max=0\n",
    "for i in range(1,n+1):\n",
    "    for j in range(1,m+1):\n",
    "        a[i+j]+=1\n",
    "for x in range(len(a)):\n",
    "    if a[x]>max:\n",
    "        max=a[x]\n",
    "for x in range(len(a)):\n",
    "    if a[x]==max:\n",
    "        print(x,end=' ')"
   ]
  },
  {
   "cell_type": "markdown",
   "metadata": {},
   "source": [
    "### 6. 자릿수의 합\n",
    "- N개의 자연수 입력\n",
    "- 각 자연수의 자릿수의 합 \n",
    "- 그 합이 최대인 자연수 출력하는 프로그램\n",
    "- 각 자연수 자릿수 합 구하는 함수 -> def digit_sum(x)"
   ]
  },
  {
   "cell_type": "code",
   "execution_count": 29,
   "metadata": {},
   "outputs": [
    {
     "name": "stdout",
     "output_type": "stream",
     "text": [
      "2\n",
      "12 34\n",
      "34\n"
     ]
    }
   ],
   "source": [
    "import sys\n",
    "\n",
    "def digit_sum(x):\n",
    "    sum=0\n",
    "    while x>=1:\n",
    "        sum+=x%10\n",
    "        x=x//10\n",
    "    return sum\n",
    "    # 각 자리수 구하기 //10,, 나머지가 자리수\n",
    "\n",
    "n=int(input())\n",
    "a=list(map(int,input().split()))\n",
    "maxnum=0\n",
    "'''\n",
    "res=[]\n",
    "for i in range(n):\n",
    "    res.append(digit_sum(a[i]))\n",
    "    # print(max(res)) 자릿수의 합이 최대인 값\n",
    "굳이 할 필요가 없다~~~\n",
    "'''    \n",
    "for x in a: # 파이썬 식 배열\n",
    "    tot=digit_sum(x)\n",
    "    if tot>maxnum:\n",
    "        maxnum=tot\n",
    "        ans=x\n",
    "print(ans)"
   ]
  },
  {
   "cell_type": "markdown",
   "metadata": {},
   "source": [
    "### 7. 소수(에라토스테네스 체)\n",
    "- 에라토스테네스 체 --> 배수를 소거하는 방법\n",
    "---\n",
    "- N이 입력되면 1부터 N까지의 소수의 개수 출력\n",
    "- ex) 20 입력시 2,3,5,7,11,13,17,19 총 8개"
   ]
  },
  {
   "cell_type": "code",
   "execution_count": 43,
   "metadata": {},
   "outputs": [
    {
     "name": "stdout",
     "output_type": "stream",
     "text": [
      "20\n",
      "8\n"
     ]
    }
   ],
   "source": [
    "import sys\n",
    "cnt=0 # 소수 개수 카운트\n",
    "n=int(input())\n",
    "# 소수의 조건? 1과 자기자신으로만 나누어짐\n",
    "# for 문 돌려서 len <3 인것만?\n",
    "for i in range(2,n+1):\n",
    "    #if n%i==0: # 이건 약수의개수\n",
    "    count=0\n",
    "    for x in range(1,i+1):\n",
    "        \n",
    "        if i%x==0:\n",
    "           # print('i의 값은 :',i)\n",
    "           # print('x의 값은 :',x)\n",
    "            count+=1\n",
    "           # print('count의 값은 :',count)\n",
    "    if count==2:\n",
    "        cnt+=1\n",
    "      #  print('cnt의 값은',cnt)\n",
    "print(cnt)\n",
    "            "
   ]
  },
  {
   "cell_type": "code",
   "execution_count": 44,
   "metadata": {},
   "outputs": [
    {
     "name": "stdout",
     "output_type": "stream",
     "text": [
      "20\n",
      "8\n"
     ]
    }
   ],
   "source": [
    "import sys\n",
    "n=int(input())\n",
    "a=[0]*(n+1)\n",
    "cnt=0\n",
    "for i in range(2,n+1):\n",
    "    if a[i]==0:\n",
    "        cnt+=1\n",
    "        for j in range(i,n+1,i):\n",
    "            a[j]=1\n",
    "print(cnt)"
   ]
  },
  {
   "cell_type": "markdown",
   "metadata": {},
   "source": [
    "### 8. 뒤집은 소수\n",
    "- N개의 자연수 입력\n",
    "- 자연수를 뒤집은 수가 소수이면 출력\n",
    "- ex.) 32 -> 23 출력.... 910 -> 19\n",
    "- 뒤집는 함수 def reverse(x), def isPrime(x) 작성"
   ]
  },
  {
   "cell_type": "code",
   "execution_count": 1,
   "metadata": {},
   "outputs": [
    {
     "name": "stdout",
     "output_type": "stream",
     "text": [
      "3\n",
      "12 34 75\n",
      "43\n"
     ]
    }
   ],
   "source": [
    "def isPrime(x):\n",
    "    cnt=0\n",
    "    for i in range(1,x+1):\n",
    "        if x%i==0:\n",
    "            cnt+=1\n",
    "    if cnt==2:\n",
    "        return True\n",
    "    else:\n",
    "        return False\n",
    "# 자리수 \n",
    "# 리스트에 나열\n",
    "def reverse(x):\n",
    "    res=0\n",
    "    while(x>0):\n",
    "        t=x%10\n",
    "        res=res*10+t\n",
    "        x=x//10\n",
    "    return res\n",
    "\n",
    "n=int(input())\n",
    "a=list(map(int,input().split()))\n",
    "for i in a:\n",
    "    tmp=reverse(i)\n",
    "    if isPrime(tmp):\n",
    "        print(tmp)\n"
   ]
  },
  {
   "cell_type": "markdown",
   "metadata": {},
   "source": [
    "## 9. 주사위 게임\n",
    "- 1~6 눈 가진 3개 주사위 \n",
    "- 규칙1.) 같은 눈 3개 나오면 10,000 + 같은 눈 * 1000 상금\n",
    "- 규칙2.) 같은 눈 2개 나오면 1,000원 + 같은 눈 * 100 상금\n",
    "- 규칙3.) 모두 다른 눈 나오면 가장 큰 눈 * 100 상금\n",
    "- ex.) 3, 3, 6  --> 1,000 + 3 * 100 = 1,300\n",
    "- N 명이 주사위 게임에 참여하였을 때 가장 많은 상금을 받은 살감의 상금 출력"
   ]
  },
  {
   "cell_type": "code",
   "execution_count": 23,
   "metadata": {},
   "outputs": [
    {
     "name": "stdout",
     "output_type": "stream",
     "text": [
      "3\n",
      "2 2 2\n",
      "기존 값 0\n",
      "3 3 6\n",
      "6 2 6\n",
      "최종값 12000\n"
     ]
    }
   ],
   "source": [
    "## 60 점짜리임 ... 왜???? 실행시간 문제????\n",
    "import sys\n",
    "n=int(input())\n",
    "money=0\n",
    "for _ in range(n):\n",
    "    a=list(map(int,input().split())) # 각 사람의 주사위 숫자 입력받기\n",
    "    i=0\n",
    "\n",
    "    # 각 사람의 게임머니 측정\n",
    "    if a[i]==a[i+1] and a[i]==a[i+2]:\n",
    "        score= 10000 + 1000*a[i]\n",
    "    elif a[i] == a[i+1] or a[i]==a[i+2]:\n",
    "        score = 10000 + 100 *a[i]\n",
    "    elif a[i+1] == a[i+2]:\n",
    "        score = 10000 + 100* a[i+1]\n",
    "    else:\n",
    "        score = 100 * max(a)\n",
    "    if score > money:\n",
    "        money=score\n",
    "print(money)\n",
    "        \n",
    "    "
   ]
  },
  {
   "cell_type": "markdown",
   "metadata": {},
   "source": [
    "## 10. 점수계산\n",
    "- 1번문제 맞는 경우 1점,,, 앞 문제 틀리다가 답이 맞는 문제 다시 1점\n",
    "- 1 0 1 1 1 0 0 1 1 0\n",
    "- 1 0 1 2 3 0 0 1 2 0  -> 10점"
   ]
  },
  {
   "cell_type": "code",
   "execution_count": null,
   "metadata": {},
   "outputs": [],
   "source": [
    "n=int(input())\n",
    "ans=list(map(int,input().split()))\n",
    "score=[0]*n\n",
    "for i in range(n):\n",
    "    if ans[i]==0:\n",
    "        score[i]=0\n",
    "    elif ans[i]==1:\n",
    "        score[i]=score[i-1]+1\n",
    "result=sum(map(int,score))\n",
    "print(result)"
   ]
  },
  {
   "cell_type": "code",
   "execution_count": null,
   "metadata": {},
   "outputs": [],
   "source": []
  }
 ],
 "metadata": {
  "kernelspec": {
   "display_name": "Python 3",
   "language": "python",
   "name": "python3"
  },
  "language_info": {
   "codemirror_mode": {
    "name": "ipython",
    "version": 3
   },
   "file_extension": ".py",
   "mimetype": "text/x-python",
   "name": "python",
   "nbconvert_exporter": "python",
   "pygments_lexer": "ipython3",
   "version": "3.8.3"
  }
 },
 "nbformat": 4,
 "nbformat_minor": 4
}
