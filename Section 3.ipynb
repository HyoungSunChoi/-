{
 "cells": [
  {
   "cell_type": "markdown",
   "metadata": {},
   "source": [
    "# 1. 회문 문자열 검사"
   ]
  },
  {
   "cell_type": "code",
   "execution_count": null,
   "metadata": {},
   "outputs": [],
   "source": [
    "# 1. 회문 문자열 검사\n",
    "# N개의 문자열을 입력받아 앞에서 읽을 때나 뒤에서 읽을 때나 같은 경우 YES, 아니면 NO\n",
    "import  sys\n",
    "# 1번 방법\n",
    "'''n = int(input())\n",
    "for i in range(n):\n",
    "    word = input()\n",
    "    word = word.upper()\n",
    "    if word != word[-1::-1]:\n",
    "        print(\"#%d NO\" % (i + 1))\n",
    "    else:\n",
    "        print(\"#%d YES\" % (i + 1))'''\n",
    "\n",
    "# 2번 방법\n",
    "def smt(data):\n",
    "    if len(data)==1:\n",
    "        return True\n",
    "    if data[0]==data[-1]:\n",
    "        return smt(data[1:-1])\n",
    "    else:\n",
    "        return False\n",
    "n=int(input())\n",
    "for i in range(n):\n",
    "    word=str(input())\n",
    "    word=word.upper()\n",
    "    if smt(word)==True:\n",
    "        print(\"#%d YES\"%(i+1))\n",
    "    if smt(word)==False:\n",
    "        print(\"#%d No\"%(i+1))\n",
    "\n",
    "'''n=int(input())\n",
    "for i in range(1,n+1):\n",
    "    str=input()\n",
    "    str=str.upper()\n",
    "    for j in range(len(str)//2-1):\n",
    "        if str[j]!=str[-1-j]:\n",
    "            print(\"#%d NO\"%i)\n",
    "            break\n",
    "        else:\n",
    "            print(\"#%d YES\"%i)'''\n"
   ]
  },
  {
   "cell_type": "markdown",
   "metadata": {},
   "source": [
    "# 2. 숫자만 추출"
   ]
  },
  {
   "cell_type": "code",
   "execution_count": null,
   "metadata": {},
   "outputs": [],
   "source": [
    "# 2. 숫자만 추출\n",
    "# 문자+숫자 문자열, 그 중 숫자만 추출하여 그 순서대로 자연수 만들기\n",
    "a=input()\n",
    "b=[int(x) for x in a if x.isdigit()]\n",
    "res=cnt=0\n",
    "for i in b:\n",
    "    res=res*10+i\n",
    "print(res)\n",
    "for j in range(1,res+1):\n",
    "    if res%j==0:\n",
    "        cnt+=1\n",
    "print(cnt)"
   ]
  },
  {
   "cell_type": "code",
   "execution_count": null,
   "metadata": {},
   "outputs": [],
   "source": [
    "word=input()\n",
    "res=cnt=0\n",
    "for x in word:\n",
    "    if x.isnumeric():\n",
    "        res=10*res+int(x)\n",
    "print(res)\n",
    "for i in range(1,res+1):\n",
    "    if res%i==0:\n",
    "        cnt+=1\n",
    "print(cnt)"
   ]
  },
  {
   "cell_type": "markdown",
   "metadata": {},
   "source": [
    "# 3. 카드 역배치"
   ]
  },
  {
   "cell_type": "code",
   "execution_count": null,
   "metadata": {},
   "outputs": [],
   "source": [
    "# 3. 카드 역배치\n",
    "# 1~20 까지 숫자 오름차순 정렬,\n",
    "# 구간 [a,b] 까지 역순\n",
    "# 또 다른 구간 주어지면 또다시 역순\n",
    "\n",
    "import sys\n",
    "lst=list(range(21))\n",
    "for _ in range(10):\n",
    "    ai,bi=map(int,input().split())\n",
    "    for i in range((bi-ai)//2+1):\n",
    "        lst[ai+i],lst[bi-i]=lst[bi-i],lst[ai+i]\n",
    "lst.pop(0)\n",
    "for _ in lst:\n",
    "    print(_,end=' ')"
   ]
  },
  {
   "cell_type": "markdown",
   "metadata": {},
   "source": [
    "# 4. 두 리스트 합치기"
   ]
  },
  {
   "cell_type": "code",
   "execution_count": null,
   "metadata": {},
   "outputs": [],
   "source": [
    "n=int(input())\n",
    "a=list(map(int,input().split()))\n",
    "m=int(input())\n",
    "b=list(map(int,input().split()))\n",
    "res=a+b\n",
    "print(sorted(res))"
   ]
  },
  {
   "cell_type": "code",
   "execution_count": 1,
   "metadata": {},
   "outputs": [
    {
     "name": "stdout",
     "output_type": "stream",
     "text": [
      "3\n",
      "1 3 5\n",
      "5\n",
      "2 3 6 7 9\n",
      "1 2 3 3 5 6 7 9 "
     ]
    }
   ],
   "source": [
    "# 4. 두 리스트 합치기\n",
    "# 첫 번째 리스트 크기 n\n",
    "# 두 번쨰 줄에 N개의 리스트 원소 입력\n",
    "# 세 번째 줄에 2번째 리스트 크기 m\n",
    "# 네 번째 줄에 M개의 리스트 원소 입력\n",
    "n = int(input())\n",
    "a = list(map(int, input().split()))\n",
    "m = int(input())\n",
    "b = list(map(int, input().split()))\n",
    "res = []\n",
    "a_idx = b_idx = 0\n",
    "for i in range(n + m):\n",
    "    if a[a_idx] <= b[b_idx]:\n",
    "        if a_idx + 1 == len(a):\n",
    "            res.append(a[a_idx])\n",
    "            res = res + b[b_idx:]\n",
    "            break\n",
    "        res.append(a[a_idx])\n",
    "        a_idx += 1\n",
    "    else:\n",
    "        if b_idx + 1 == len(b):\n",
    "            res.append(b[b_idx])\n",
    "            res = res + a[a_idx:]\n",
    "            break\n",
    "        res.append(b[b_idx])\n",
    "        b_idx += 1\n",
    "for _ in res:\n",
    "    print(_, end=' ')\n"
   ]
  },
  {
   "cell_type": "markdown",
   "metadata": {},
   "source": [
    "# 5. 수들의 합"
   ]
  },
  {
   "cell_type": "markdown",
   "metadata": {},
   "source": [
    "- Time limit exceed\n",
    "    - 모든 합 다 구하기 때문\n",
    "    - 가치 쳐내기!!!"
   ]
  },
  {
   "cell_type": "code",
   "execution_count": null,
   "metadata": {},
   "outputs": [],
   "source": [
    "n,m=map(int,input().split())\n",
    "a=list(map(int,input().split()))\n",
    "cnt=0\n",
    "s,e=0,1\n",
    "while s<n:\n",
    "    res=0\n",
    "    for i in range(s,e):\n",
    "        res+=a[i]\n",
    "    if res==m:\n",
    "        cnt+=1\n",
    "        s+=1\n",
    "        e=s+1\n",
    "    elif res>m:\n",
    "        s+=1\n",
    "        e=s+1\n",
    "    elif e>n-1:\n",
    "        s+=1\n",
    "        e=s+1\n",
    "    else: e+=1\n",
    "print(cnt)"
   ]
  },
  {
   "cell_type": "code",
   "execution_count": null,
   "metadata": {},
   "outputs": [],
   "source": []
  },
  {
   "cell_type": "code",
   "execution_count": null,
   "metadata": {},
   "outputs": [],
   "source": [
    "import sys\n",
    "n, m = map(int, input().split())\n",
    "a = list(map(int, input().split()))\n",
    "cnt = 0\n",
    "pi = 0\n",
    "i = 1\n",
    "chk=a[pi]\n",
    "while True:\n",
    "    if chk<m:\n",
    "        if i<n:\n",
    "            chk+=a[i]\n",
    "            i+=1\n",
    "        else:\n",
    "            break\n",
    "    elif chk==m:\n",
    "        cnt+=1\n",
    "        pi+=1\n",
    "        chk=a[pi]\n",
    "    else:\n",
    "        pi+=1\n",
    "        chk=a[pi]\n",
    "print(cnt)\n",
    "'''# 1번째 방법\n",
    "n, m = map(int, input().split())\n",
    "a = list(map(int, input().split()))\n",
    "cnt = 0\n",
    "i = pi = 0\n",
    "chk = a[pi]\n",
    "while pi <= n - 1:\n",
    "    if chk == m:\n",
    "        cnt += 1\n",
    "        pi += 1\n",
    "        chk = a[pi]\n",
    "        i = pi\n",
    "    elif chk > m:\n",
    "        pi += 1\n",
    "        chk = a[pi]\n",
    "        i = pi\n",
    "    else:\n",
    "        if i == n-1:\n",
    "            break\n",
    "        else:\n",
    "            i += 1\n",
    "            chk += a[i]\n",
    "print(cnt)\n",
    "'''\n",
    "\n",
    "'''\n",
    "for i in range(n):\n",
    "    chk = a[i]\n",
    "    if chk == m:\n",
    "        cnt += 1\n",
    "        continue\n",
    "    for j in range(i + 1, n):\n",
    "        chk += a[j]\n",
    "        if chk == m:\n",
    "            cnt += 1\n",
    "            break\n",
    "print(cnt)\n",
    "'''\n"
   ]
  },
  {
   "cell_type": "markdown",
   "metadata": {},
   "source": [
    "# 6. 격자판 최대합"
   ]
  },
  {
   "cell_type": "code",
   "execution_count": null,
   "metadata": {},
   "outputs": [],
   "source": [
    "import sys\n",
    "sys.stdin = open(\"input.txt\", 'r')\n",
    "n=int(input())\n",
    "a=[list(map(int, input().split())) for _ in range(n)]\n",
    "largest=-2147000000\n",
    "for i in range(n):\n",
    "    sum1=sum2=0\n",
    "    for j in range(n):\n",
    "        sum1+=a[i][j]\n",
    "        sum2+=a[j][i]\n",
    "    if sum1>largest:\n",
    "        largest=sum1\n",
    "    if sum2>largest:\n",
    "        largest=sum2\n",
    "sum1=sum2=0\n",
    "for i in range(n):\n",
    "    sum1+=a[i][i]\n",
    "    sum2+=a[i][n-i-1]\n",
    "if sum1>largest:\n",
    "    largest=sum1\n",
    "if sum2>largest:\n",
    "    largest=sum2\n",
    "print(largest)"
   ]
  },
  {
   "cell_type": "markdown",
   "metadata": {},
   "source": [
    "# 7. 사과나무"
   ]
  },
  {
   "cell_type": "code",
   "execution_count": null,
   "metadata": {},
   "outputs": [],
   "source": [
    "import sys\n",
    "\n",
    "n = int(input())\n",
    "a = [list(map(int, input().split())) for _ in range(n)]\n",
    "res = t = 0\n",
    "for i in range(n):\n",
    "    res = res + sum(a[i][n//2 - t:n//2 +(t+1)])\n",
    "    if i < n // 2:\n",
    "        t += 1\n",
    "    else:\n",
    "        t -= 1\n",
    "print(res)"
   ]
  },
  {
   "cell_type": "markdown",
   "metadata": {},
   "source": [
    "# 8. 곳감"
   ]
  },
  {
   "cell_type": "code",
   "execution_count": null,
   "metadata": {},
   "outputs": [],
   "source": [
    "import sys\n",
    "\n",
    "n=int(input())\n",
    "a=[list(map(int,input().split())) for _ in range(n)]\n",
    "m=int(input())\n",
    "# 회전시키기\n",
    "for _ in range(m):\n",
    "    row,direction,times = map(int,input().split())\n",
    "    x=times%n\n",
    "    if direction==0:\n",
    "        a[row-1]=a[row-1][x:]+a[row-1][:x]\n",
    "    if direction==1:\n",
    "        a[row-1]=a[row-1][n-x:]+a[row-1][:n-x]\n",
    "\n",
    "res=0\n",
    "t=n//2\n",
    "# 출력하기\n",
    "for i in range(n):\n",
    "    res=res+sum(a[i][n//2-t:n//2+t+1])\n",
    "    if i<n//2:\n",
    "        t-=1\n",
    "    else:\n",
    "        t+=1\n",
    "print(res)\n"
   ]
  },
  {
   "cell_type": "markdown",
   "metadata": {},
   "source": [
    "# 9. 봉우리"
   ]
  },
  {
   "cell_type": "code",
   "execution_count": null,
   "metadata": {},
   "outputs": [],
   "source": [
    "n=int(input())\n",
    "a=[list(map(int,input().split())) for _ in range(n)]\n",
    "# 원판 생성\n",
    "lst=[[0]*(n+2) for _ in range(n+2)]\n",
    "# 입력값 격자판에 배치\n",
    "for i in range(n):\n",
    "    lst[i+1]=[0]+a[i]+[0]\n",
    "flg=False\n",
    "cnt=0\n",
    "for i in range(1,n+1):\n",
    "    for j in range(1,n+1):\n",
    "        print(i,',',j,'현재 flg 의 상태는', flg)\n",
    "        if lst[i][j]>lst[i][j+1]: #and lst[i][j]>lst[i][j-1]: #  원소가 앞,뒤 원소보다 크다면\n",
    "            if lst[i][j]>lst[i+1][j]: #and lst[i][j]>lst[i-1][j]: #  원소가 위, 아래 원소보다 크다면\n",
    "                if flg==False:\n",
    "                    flg=True\n",
    "                    cnt += 1\n",
    "                    print(i,',',j,'총',cnt)\n",
    "                    print(i,',',j,'flg는 False flg 의 상태는', flg)\n",
    "\n",
    "        else:\n",
    "            flg=False\n",
    "    flg=False\n",
    "print(cnt)"
   ]
  },
  {
   "cell_type": "code",
   "execution_count": null,
   "metadata": {},
   "outputs": [],
   "source": [
    "import sys\n",
    "#sys.stdin = open(\"input.txt\", 'r')\n",
    "dx=[-1, 0, 1, 0]\n",
    "dy=[0, 1, 0, -1]\n",
    "n=int(input())\n",
    "a=[list(map(int, input().split())) for _ in range(n)]\n",
    "a.insert(0, [0]*n)\n",
    "a.append([0]*n)\n",
    "for x in a:\n",
    "    x.insert(0, 0)\n",
    "    x.append(0)\n",
    "\n",
    "cnt=0\n",
    "for i in range(1, n+1):\n",
    "    for j in range(1, n+1):\n",
    "        if all(a[i][j]>a[i+dx[k]][j+dy[k]] for k in range(4)):\n",
    "            cnt+=1\n",
    "print(cnt)"
   ]
  },
  {
   "cell_type": "markdown",
   "metadata": {},
   "source": [
    "# 10. 스도쿠 검사"
   ]
  },
  {
   "cell_type": "code",
   "execution_count": null,
   "metadata": {},
   "outputs": [],
   "source": [
    "# 각 행과 각 열에 1~9 까지 숫자가 중복없이 채우기\n",
    "# 행탐색,\n",
    "# 열탐색,\n",
    "# 그룹탐색\n",
    "import sys\n",
    "def check(a):\n",
    "    for i in range(9):\n",
    "        ch1 = [0] * 10\n",
    "        ch2 = [0] * 10\n",
    "        for j in range(9):\n",
    "            ch1[a[i][j]] = 1\n",
    "            ch2[a[j][i]] = 1\n",
    "        if sum(ch1)!=9 or sum(ch2)!=9:\n",
    "            return False\n",
    "    for i in range(3):\n",
    "        for j in range(3):\n",
    "            ch3=[0]*10\n",
    "            for k in range(3):\n",
    "                for s in range(3):\n",
    "                    ch3[a[i*3+k][j*3+s]]=1\n",
    "            if sum(ch3)!=9:\n",
    "                return False\n",
    "    return True\n",
    "a=[list(map(int,input().split())) for _ in range(9)]\n",
    "if check(a):\n",
    "    print(\"YES\")\n",
    "else:\n",
    "    print(\"NO\")"
   ]
  },
  {
   "cell_type": "markdown",
   "metadata": {},
   "source": [
    "# 11. 격자판 회문수"
   ]
  },
  {
   "cell_type": "code",
   "execution_count": null,
   "metadata": {},
   "outputs": [],
   "source": [
    "'''def check_moon(a):\n",
    "    for i in range(len(a)//2):\n",
    "        if a[i]!=a[-1-i]:\n",
    "            return False\n",
    "        else:\n",
    "            return True\n",
    "def check_five_num(a):\n",
    "    cnt=0\n",
    "    t=0\n",
    "    for i in range(7):\n",
    "        x=0 # 체크 리스트 인덱스값, 몇번째 기준\n",
    "        ch1 = [0] * 5 # 행 체크\n",
    "        ch2 = [0] * 5 # 열 체크\n",
    "        for j in range(7):\n",
    "            for x in range(5):\n",
    "                if x==5:\n",
    "                    break\n",
    "                ch1[x]=a[i][j+t]\n",
    "                ch2[x]=a[j+t][i]\n",
    "                x+=1\n",
    "            if check_moon(ch1)!=False:\n",
    "                cnt+=1\n",
    "                print('ch1',ch1,i,j,t)\n",
    "            elif check_moon(ch2)!=False:\n",
    "                cnt+=1\n",
    "                print('ch2',ch2,i,j,t)\n",
    "        t+=1\n",
    "        if t==3:\n",
    "            break\n",
    "    return cnt\n",
    "\n",
    "a=[list(map(int,input().split())) for _ in range(7)]\n",
    "print(check_five_num(a))'''\n",
    "\n",
    "import sys\n",
    "a=[list(map(int,input().split())) for _ in range(7)]\n",
    "cnt=0\n",
    "for i in range(3):\n",
    "    for j in range(7):\n",
    "        tmp=a[j][i:i+5]\n",
    "        if tmp==tmp[::-1]:\n",
    "            cnt+=1\n",
    "        for k in range(2):\n",
    "            if a[i+k][j]!=a[i+4-k][j]: # 0,0 1,0   3,0 4,0\n",
    "                break\n",
    "        else:\n",
    "            cnt+=1\n",
    "print(cnt)\n",
    "\n",
    "\n"
   ]
  }
 ],
 "metadata": {
  "kernelspec": {
   "display_name": "Python 3",
   "language": "python",
   "name": "python3"
  },
  "language_info": {
   "codemirror_mode": {
    "name": "ipython",
    "version": 3
   },
   "file_extension": ".py",
   "mimetype": "text/x-python",
   "name": "python",
   "nbconvert_exporter": "python",
   "pygments_lexer": "ipython3",
   "version": "3.7.6"
  }
 },
 "nbformat": 4,
 "nbformat_minor": 4
}
