{
 "cells": [
  {
   "cell_type": "markdown",
   "metadata": {},
   "source": [
    "# 1. 최대 점수 구하기 (DFS)"
   ]
  },
  {
   "cell_type": "code",
   "execution_count": null,
   "metadata": {},
   "outputs": [],
   "source": [
    "'''\n",
    "n 개의 문제를 풀어야한다\n",
    "각각 점수와, 푸는데 걸리는 시간\n",
    "\n",
    "총 제한시간 M 안에 N 개 문제중 최대 점수를 얻을 수 있게 해야한다\n",
    "\n",
    "'''\n",
    "import sys\n",
    "#sys.stdin=open(\"input.txt\",\"r\")\n",
    "\n",
    "def DFS(L,sum,Time):\n",
    "    global res\n",
    "    if Time>m: return\n",
    "    if L==n:\n",
    "        if sum>res:\n",
    "            res=sum\n",
    "    else:\n",
    "        DFS(L+1,sum+score[L],Time+time[L])\n",
    "        DFS(L+1,sum,Time)\n",
    "if __name__==\"__main__\":\n",
    "    n,m=map(int,input().split())\n",
    "    score=list()\n",
    "    time=list()\n",
    "    res=0\n",
    "    for _ in range(n):\n",
    "        a,b=map(int,input().split())\n",
    "        score.append(a)\n",
    "        time.append(b)\n",
    "    DFS(0,0,0)\n",
    "    print(res)"
   ]
  },
  {
   "cell_type": "markdown",
   "metadata": {},
   "source": [
    "# 2. 휴가 (DFS)"
   ]
  },
  {
   "cell_type": "code",
   "execution_count": null,
   "metadata": {},
   "outputs": [],
   "source": [
    "'''\n",
    "오늘부터 N+1일째 되는 날 휴가를 간다\n",
    "남은 N 일 동안 상담하여 휴가비를 만들것이다.\n",
    "\n",
    "하루에 하나씩 서로 다른 사람의 상담이 예약되어 있다.\n",
    "각 상담은 완료하는데 걸리는 날수(T) 와 상담을 했을때 받는 금액(P) 로 이루어짐\n",
    "\n",
    "예시. 만약 N 이 7이고, 아래와 같이 예약이 잡혔다면\n",
    "    1일  2일  3일  4일  5일  6일  7일\n",
    "T   4     2   3    3    2   2   1\n",
    "P   20    10  15   20   30  20  10\n",
    "\n",
    "1일에 잡혀있는 상담은 총 4일 걸리고 금액은 20 받는다\n",
    "최대 이익은 1일, 5일 7일에 하는것\n",
    "'''\n",
    "import sys\n",
    "sys.stdin=open(\"input.txt\",\"r\")\n",
    "\n",
    "def DFS(L, sum):\n",
    "    global res\n",
    "\n",
    "    if L == n + 1:\n",
    "        if sum > res:\n",
    "            res = sum\n",
    "    else:\n",
    "        if L+pw[L]<=n+1: # 더해지는 날짜가 끝날짜보다 크면 안된다 ( 가지치기 )\n",
    "            DFS(L+pw[L],sum+pm[L]) # L 일에 일을 하는 경우\n",
    "        DFS((L+1),sum) # 하지 않는 경우\n",
    "\n",
    "if __name__ == \"__main__\":\n",
    "    n = int(input())\n",
    "    pw = []  # 일해야하는 날짜\n",
    "    pm = []  # 일해서 받는 돈\n",
    "    res = 0\n",
    "    for _ in range(n):\n",
    "        a, b = map(int, input().split())\n",
    "        pw.append(a)\n",
    "        pm.append(b)\n",
    "    pw.insert(0,0)\n",
    "    pm.insert(0,0)\n",
    "    DFS(1, 0)\n",
    "    print(res)\n"
   ]
  },
  {
   "cell_type": "markdown",
   "metadata": {},
   "source": [
    "# 3. 양팔저울"
   ]
  },
  {
   "cell_type": "code",
   "execution_count": 4,
   "metadata": {},
   "outputs": [
    {
     "name": "stdout",
     "output_type": "stream",
     "text": [
      "3\n",
      "1 5 7\n",
      "2\n"
     ]
    }
   ],
   "source": [
    "def DFS(L,sum):\n",
    "    global res\n",
    "    if L==k:\n",
    "        if sum>0:\n",
    "            res.add(sum)\n",
    "    else:\n",
    "        DFS(L+1,sum+G[L])\n",
    "        DFS(L+1,sum-G[L])\n",
    "        DFS(L+1,sum)\n",
    "\n",
    "if __name__==\"__main__\":\n",
    "    k=int(input())\n",
    "    G=list(map(int,input().split()))\n",
    "    res=set()\n",
    "    s=sum(G)\n",
    "    DFS(0,0)\n",
    "    print(s-len(res))"
   ]
  },
  {
   "cell_type": "markdown",
   "metadata": {},
   "source": [
    "# 4. 동전 바꿔주기"
   ]
  },
  {
   "cell_type": "code",
   "execution_count": 7,
   "metadata": {},
   "outputs": [
    {
     "name": "stdout",
     "output_type": "stream",
     "text": [
      "20\n",
      "3\n",
      "5 3\n",
      "10 2\n",
      "1 5\n",
      "4\n"
     ]
    }
   ],
   "source": [
    "def DFS(L,sum):\n",
    "    global cnt\n",
    "    if sum>T: return\n",
    "    if L==k:\n",
    "        if sum==T:\n",
    "            cnt+=1\n",
    "    else :\n",
    "        for i in range(cc[L]+1):\n",
    "            DFS(L+1,sum+(cm[L]*i))\n",
    "\n",
    "if __name__==\"__main__\":\n",
    "    T=int(input())\n",
    "    k=int(input())\n",
    "    cm=list()\n",
    "    cc=list()\n",
    "    cnt=0\n",
    "    for _ in range(k):\n",
    "        a,b=map(int,input().split())\n",
    "        cm.append(a)\n",
    "        cc.append(b)\n",
    "    DFS(0,0)\n",
    "    print(cnt)"
   ]
  },
  {
   "cell_type": "markdown",
   "metadata": {},
   "source": [
    "# 5. 동전 분배하기"
   ]
  },
  {
   "cell_type": "code",
   "execution_count": 12,
   "metadata": {},
   "outputs": [
    {
     "name": "stdout",
     "output_type": "stream",
     "text": [
      "7\n",
      "8\n",
      "9\n",
      "11\n",
      "12\n",
      "23\n",
      "15\n",
      "17\n",
      "5\n"
     ]
    }
   ],
   "source": [
    "def DFS(L):\n",
    "    global res\n",
    "    if L==n:\n",
    "        cha=max(money)-min(money)\n",
    "        if cha<res:\n",
    "            tmp=set()\n",
    "            for x in money:\n",
    "                tmp.add(x)\n",
    "            if len(tmp)==3:\n",
    "                res=cha\n",
    "    else:\n",
    "        for i in range(3):\n",
    "            money[i]+=G[L]\n",
    "            DFS(L+1)\n",
    "            money[i]-=G[L]\n",
    "            \n",
    "    \n",
    "if __name__==\"__main__\":\n",
    "    n=int(input())\n",
    "    G=[int(input()) for i in range(n)]\n",
    "    money=[0]*3\n",
    "    res=9999\n",
    "    DFS(0)\n",
    "    print(res)"
   ]
  },
  {
   "cell_type": "markdown",
   "metadata": {},
   "source": [
    "# 6. 알파코드"
   ]
  },
  {
   "cell_type": "code",
   "execution_count": null,
   "metadata": {},
   "outputs": [],
   "source": [
    "def DFS(L,P):\n",
    "    global cnt\n",
    "    if L==n:\n",
    "        cnt+=1\n",
    "        for j in range(P):\n",
    "            print(chr(res[j]+64),end='')\n",
    "        print()\n",
    "    else:\n",
    "        for i in range(1,27): # 1~26 가닥 뻗기\n",
    "            if code[L]==i:  # 1자리 숫자가 걸리는 경우\n",
    "                res[P]=i\n",
    "                DFS(L+1,P+1)\n",
    "            elif i>=10 and code[L]==i//10 and code[L+1]==i%10:  # 2자리 숫자가 걸리는 경우\n",
    "                res[P]=i\n",
    "                DFS(L+2,P+1)\n",
    "\n",
    "\n",
    "if __name__==\"__main__\":\n",
    "    code=list(map(int,input()))\n",
    "    n=len(code)\n",
    "    code.insert(n,-1)\n",
    "    res=[0]*n\n",
    "    cnt=0\n",
    "    DFS(0,0)\n",
    "    print(cnt)"
   ]
  },
  {
   "cell_type": "markdown",
   "metadata": {},
   "source": [
    "# 7. 송아지 찾기"
   ]
  },
  {
   "cell_type": "code",
   "execution_count": null,
   "metadata": {},
   "outputs": [],
   "source": [
    "from collections import deque\n",
    "MAX=10000\n",
    "ch=[0]*(MAX+1)\n",
    "dis=[0]*(MAX+1)\n",
    "dQ=deque()\n",
    "s,e=map(int,input().split())\n",
    "dQ.append(s)\n",
    "ch[s]=1\n",
    "while dQ:\n",
    "    now=dQ.popleft()\n",
    "    if now==e:\n",
    "        break\n",
    "    for next in (now+1,now-1,now+5):\n",
    "        if 0<=next<=MAX:\n",
    "            if ch[next]==0:\n",
    "                ch[next]=1\n",
    "                dis[next]=dis[now]+1\n",
    "                dQ.append(next)\n",
    "print(dis[now])"
   ]
  },
  {
   "cell_type": "code",
   "execution_count": 4,
   "metadata": {},
   "outputs": [
    {
     "name": "stdout",
     "output_type": "stream",
     "text": [
      "1 21\n",
      "4\n"
     ]
    }
   ],
   "source": [
    "s,e=map(int,input().split())\n",
    "\n",
    "if s<e:\n",
    "    n=e-s\n",
    "    total=0\n",
    "    if n%5>2:\n",
    "        total+=n//5+1\n",
    "        total+=abs((n%5)-5)\n",
    "    else:\n",
    "        total+=n//5\n",
    "        total+=n%5\n",
    "    print(total)\n",
    "\n",
    "if s>e:\n",
    "    total=0\n",
    "    total+=s-e\n",
    "    print(total)"
   ]
  },
  {
   "cell_type": "markdown",
   "metadata": {},
   "source": [
    "# 8. 사과나무"
   ]
  },
  {
   "cell_type": "code",
   "execution_count": null,
   "metadata": {},
   "outputs": [],
   "source": [
    "from collections import deque\n",
    "n=int(input())\n",
    "board=[list(map(int,input().split())) for _ in range(n)]\n",
    "dx=[0,0,1,-1]\n",
    "dy=[1,-1,0,0]\n",
    "m=n//2\n",
    "dQ=deque()\n",
    "dQ.append((m,m))\n",
    "ch=[[0]*n for _ in range(n)]\n",
    "L=0\n",
    "total=board[m][m]\n",
    "ch[m][m]=1\n",
    "while True:\n",
    "    if L==n//2:\n",
    "        break\n",
    "    size=len(dQ)\n",
    "    for i in range(size):\n",
    "        a=dQ.popleft()\n",
    "        for j in range(4):\n",
    "            x=a[0]+dx[j]\n",
    "            y=a[1]+dy[j]\n",
    "            if ch[x][y]==0:\n",
    "                ch[x][y]=1\n",
    "                tmp=board[x][y]\n",
    "                print(tmp)\n",
    "                total+=tmp\n",
    "                dQ.append((x,y))\n",
    "        print(dQ)\n",
    "    L+=1\n",
    "print(total)"
   ]
  },
  {
   "cell_type": "code",
   "execution_count": null,
   "metadata": {},
   "outputs": [],
   "source": [
    "from collections import deque\n",
    "n=int(input())\n",
    "board=[list(map(int,input().split())) for _ in range(n)]\n",
    "dx=[0,0,1,-1]\n",
    "dy=[1,-1,0,0]\n",
    "m=n//2\n",
    "dQ=deque()\n",
    "dQ.append((m,m))\n",
    "ch=[[0]*n for _ in range(n)]\n",
    "L=0\n",
    "total=board[m][m]\n",
    "ch[m][m]=1\n",
    "while dQ:\n",
    "    if L==n//2:\n",
    "        break\n",
    "    a=dQ.popleft() # 이렇게하면 하나만 pop 맨처음 dx,dy 맵 시뮬만 실행한다. 전체를 다 실행하기 위해서는 size 를 설정해서 해야한다\n",
    "    for k in range(4):\n",
    "        x=a[0]+dx[k]\n",
    "        y=a[1]+dy[k]\n",
    "        if ch[x][y]==0:\n",
    "            ch[x][y]=1\n",
    "            tmp=board[x][y]\n",
    "            print(tmp)\n",
    "            total+=tmp\n",
    "            dQ.append((x,y))\n",
    "        print(dQ)\n",
    "    L+=1\n",
    "print(total)\n"
   ]
  },
  {
   "cell_type": "markdown",
   "metadata": {},
   "source": [
    "# 9. 미로의 최단거리 통로"
   ]
  },
  {
   "cell_type": "code",
   "execution_count": null,
   "metadata": {},
   "outputs": [],
   "source": [
    "import sys\n",
    "sys.stdin=open(\"in1.txt\",\"r\")\n",
    "from collections import deque\n",
    "board=[list(map(int,input().split())) for _ in range(7)]\n",
    "dis=[[0]*7 for _ in range(7)]\n",
    "Q=deque()\n",
    "dx=[0,0,1,-1]\n",
    "dy=[1,-1,0,0]\n",
    "Q.append((0,0))\n",
    "# 시작점 초기화\n",
    "board[0][0]=1\n",
    "while Q:\n",
    "    tmp=Q.popleft()\n",
    "    for i in range(4):\n",
    "        x=tmp[0]+dx[i]\n",
    "        y=tmp[1]+dy[i]\n",
    "        if 0<=x<=6 and 0<=y<=6 and board[x][y]==0:\n",
    "            board[x][y]=1 # 지나간 길은 1로 표시\n",
    "            dis[x][y]=dis[tmp[0]][tmp[1]]+1\n",
    "            Q.append((x,y))\n",
    "if board[6][6]==0:\n",
    "    print(-1)\n",
    "else:\n",
    "    print(dis[6][6])"
   ]
  }
 ],
 "metadata": {
  "kernelspec": {
   "display_name": "Python 3",
   "language": "python",
   "name": "python3"
  },
  "language_info": {
   "codemirror_mode": {
    "name": "ipython",
    "version": 3
   },
   "file_extension": ".py",
   "mimetype": "text/x-python",
   "name": "python",
   "nbconvert_exporter": "python",
   "pygments_lexer": "ipython3",
   "version": "3.7.6"
  }
 },
 "nbformat": 4,
 "nbformat_minor": 4
}
