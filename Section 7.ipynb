{
 "cells": [
  {
   "cell_type": "markdown",
   "metadata": {},
   "source": [
    "# 1. 최대 점수 구하기 (DFS)"
   ]
  },
  {
   "cell_type": "code",
   "execution_count": null,
   "metadata": {},
   "outputs": [],
   "source": [
    "'''\n",
    "n 개의 문제를 풀어야한다\n",
    "각각 점수와, 푸는데 걸리는 시간\n",
    "\n",
    "총 제한시간 M 안에 N 개 문제중 최대 점수를 얻을 수 있게 해야한다\n",
    "\n",
    "'''\n",
    "import sys\n",
    "#sys.stdin=open(\"input.txt\",\"r\")\n",
    "\n",
    "def DFS(L,sum,Time):\n",
    "    global res\n",
    "    if Time>m: return\n",
    "    if L==n:\n",
    "        if sum>res:\n",
    "            res=sum\n",
    "    else:\n",
    "        DFS(L+1,sum+score[L],Time+time[L])\n",
    "        DFS(L+1,sum,Time)\n",
    "if __name__==\"__main__\":\n",
    "    n,m=map(int,input().split())\n",
    "    score=list()\n",
    "    time=list()\n",
    "    res=0\n",
    "    for _ in range(n):\n",
    "        a,b=map(int,input().split())\n",
    "        score.append(a)\n",
    "        time.append(b)\n",
    "    DFS(0,0,0)\n",
    "    print(res)"
   ]
  },
  {
   "cell_type": "markdown",
   "metadata": {},
   "source": [
    "# 2. 휴가 (DFS)"
   ]
  },
  {
   "cell_type": "code",
   "execution_count": null,
   "metadata": {},
   "outputs": [],
   "source": [
    "'''\n",
    "오늘부터 N+1일째 되는 날 휴가를 간다\n",
    "남은 N 일 동안 상담하여 휴가비를 만들것이다.\n",
    "\n",
    "하루에 하나씩 서로 다른 사람의 상담이 예약되어 있다.\n",
    "각 상담은 완료하는데 걸리는 날수(T) 와 상담을 했을때 받는 금액(P) 로 이루어짐\n",
    "\n",
    "예시. 만약 N 이 7이고, 아래와 같이 예약이 잡혔다면\n",
    "    1일  2일  3일  4일  5일  6일  7일\n",
    "T   4     2   3    3    2   2   1\n",
    "P   20    10  15   20   30  20  10\n",
    "\n",
    "1일에 잡혀있는 상담은 총 4일 걸리고 금액은 20 받는다\n",
    "최대 이익은 1일, 5일 7일에 하는것\n",
    "'''\n",
    "import sys\n",
    "sys.stdin=open(\"input.txt\",\"r\")\n",
    "\n",
    "def DFS(L, sum):\n",
    "    global res\n",
    "\n",
    "    if L == n + 1:\n",
    "        if sum > res:\n",
    "            res = sum\n",
    "    else:\n",
    "        if L+pw[L]<=n+1: # 더해지는 날짜가 끝날짜보다 크면 안된다 ( 가지치기 )\n",
    "            DFS(L+pw[L],sum+pm[L]) # L 일에 일을 하는 경우\n",
    "        DFS((L+1),sum) # 하지 않는 경우\n",
    "\n",
    "if __name__ == \"__main__\":\n",
    "    n = int(input())\n",
    "    pw = []  # 일해야하는 날짜\n",
    "    pm = []  # 일해서 받는 돈\n",
    "    res = 0\n",
    "    for _ in range(n):\n",
    "        a, b = map(int, input().split())\n",
    "        pw.append(a)\n",
    "        pm.append(b)\n",
    "    pw.insert(0,0)\n",
    "    pm.insert(0,0)\n",
    "    DFS(1, 0)\n",
    "    print(res)\n"
   ]
  },
  {
   "cell_type": "code",
   "execution_count": null,
   "metadata": {},
   "outputs": [],
   "source": []
  }
 ],
 "metadata": {
  "kernelspec": {
   "display_name": "Python 3",
   "language": "python",
   "name": "python3"
  },
  "language_info": {
   "codemirror_mode": {
    "name": "ipython",
    "version": 3
   },
   "file_extension": ".py",
   "mimetype": "text/x-python",
   "name": "python",
   "nbconvert_exporter": "python",
   "pygments_lexer": "ipython3",
   "version": "3.7.6"
  }
 },
 "nbformat": 4,
 "nbformat_minor": 4
}
