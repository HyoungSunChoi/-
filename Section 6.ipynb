{
 "cells": [
  {
   "cell_type": "markdown",
   "metadata": {},
   "source": [
    "# 1. 재귀함수\n",
    " - 재귀함수를 이용한 이진수 출력\n",
    " - 10진수 N 이 입력되면 2진수로 변환하여 출력하는 프로그램 작성"
   ]
  },
  {
   "cell_type": "code",
   "execution_count": 1,
   "metadata": {},
   "outputs": [
    {
     "name": "stdout",
     "output_type": "stream",
     "text": [
      "12\n",
      "1100"
     ]
    }
   ],
   "source": [
    "n=int(input())\n",
    "def func(n):\n",
    "    if n==0:\n",
    "        return\n",
    "    else:\n",
    "        func(n//2)\n",
    "        print(n%2, end='')\n",
    "func(n)"
   ]
  },
  {
   "cell_type": "markdown",
   "metadata": {},
   "source": [
    "# 2. 이진트리 순회(깊이우선탐색)"
   ]
  },
  {
   "cell_type": "code",
   "execution_count": 10,
   "metadata": {},
   "outputs": [
    {
     "name": "stdout",
     "output_type": "stream",
     "text": [
      "1 2 4 5 3 6 7 "
     ]
    }
   ],
   "source": [
    "# 이진트리 생성\n",
    "def DFS(v):\n",
    "    if v>7:\n",
    "        return\n",
    "    else:\n",
    "        print(v,end=\" \") # 전위순회 방식\n",
    "        DFS(v*2)\n",
    "        print(v, end=\" \") # 중위순회\n",
    "        DFS(v*2+1)\n",
    "        print(v, end=\" \") # 후위순회\n",
    "    \n",
    "\n",
    "if __name__==\"__main__\":\n",
    "    DFS(1)"
   ]
  },
  {
   "cell_type": "markdown",
   "metadata": {},
   "source": [
    "# 3. 부분집합 구하기\n",
    "- 자연수 입력하라\n",
    "- 3이면 1,2,3 / 1,2 / 1,3 / 2,3 / 1 / 2 / 3"
   ]
  },
  {
   "cell_type": "code",
   "execution_count": null,
   "metadata": {},
   "outputs": [],
   "source": [
    "def DFS(v):\n",
    "    if v==n+1:\n",
    "        for i in range(1,n+1):\n",
    "            if ch[i]==1:\n",
    "                print(i,end=' ')\n",
    "        print()\n",
    "    else:\n",
    "        ch[v]=1\n",
    "        DFS(v+1)\n",
    "        ch[v]=0\n",
    "        DFS(v+1)\n",
    "\n",
    "\n",
    "if __name__==\"__main__\":\n",
    "    n=int(input())\n",
    "    ch=[0]*n+1\n",
    "    DFS(1)\n",
    "\n"
   ]
  },
  {
   "cell_type": "markdown",
   "metadata": {},
   "source": [
    "# 4. 합이 같은 부분집합\n"
   ]
  },
  {
   "cell_type": "code",
   "execution_count": null,
   "metadata": {},
   "outputs": [],
   "source": [
    "def DFS(L, sum):\n",
    "    # 시간복잡도를 더 줄일려면 중간 과정을 다 없애야 더 빨라짐\n",
    "    # sum 이 부분집합이 같을려면 ! 전체합\n",
    "    if sum>total//2: # <-- 시간 복잡도 줄이기\n",
    "        return\n",
    "    if L==n:\n",
    "        if sum==(total-sum):\n",
    "            print(\"YES\")\n",
    "            sys.exit(0)\n",
    "    else:\n",
    "        DFS(L+1, sum+a[L])\n",
    "        DFS(L+1, sum)\n",
    "\n",
    "if __name__==\"__main__\":\n",
    "    n=int(input())\n",
    "    a=list(map(int, input().split()))\n",
    "    total=sum(a)\n",
    "    DFS(0, 0)# 시작 점 -> 전체가 다 돌고 맞는값이 없으면 돌아옴\n",
    "    print(\"NO\")\n",
    "\n",
    "\n"
   ]
  },
  {
   "cell_type": "markdown",
   "metadata": {},
   "source": [
    "# 5. 바둑이 승차"
   ]
  },
  {
   "cell_type": "code",
   "execution_count": null,
   "metadata": {},
   "outputs": [],
   "source": [
    "def DFS(L,sum,tsum):\n",
    "    global biggest\n",
    "    if sum+(total-tsum)<biggest: # 현재까지의 바둑이의 합 : sum    , 앞으로 확인해야할 바둑이들의 합 : total-tsum\n",
    "        return\n",
    "    if sum>c:\n",
    "        return\n",
    "    if L==n:\n",
    "        if biggest<sum:\n",
    "            biggest=sum\n",
    "    else:\n",
    "        DFS(L+1,sum+lst[L],tsum+lst[L])\n",
    "        DFS(L+1,sum,tsum+lst[L])\n",
    "\n",
    "if __name__==\"__main__\":\n",
    "    c, n =map(int,input().split())\n",
    "    lst=[]\n",
    "    biggest=0\n",
    "    for _ in range(n):\n",
    "        lst.append(int(input()))\n",
    "    total=sum(lst)\n",
    "    DFS(0,0,0)\n",
    "    print(biggest)\n"
   ]
  },
  {
   "cell_type": "markdown",
   "metadata": {},
   "source": [
    "# 6. 중복순열 구하기"
   ]
  },
  {
   "cell_type": "markdown",
   "metadata": {},
   "source": [
    "- 간단하게 풀기"
   ]
  },
  {
   "cell_type": "code",
   "execution_count": null,
   "metadata": {},
   "outputs": [],
   "source": [
    "from itertools import product\n",
    "n,m=map(int,input().split())\n",
    "a=[i for i in range(1,n+1)]\n",
    "result=list(product(a,repeat=m))\n",
    "for x in result:\n",
    "    print(x.items())\n",
    "print(len(result))"
   ]
  },
  {
   "cell_type": "code",
   "execution_count": null,
   "metadata": {},
   "outputs": [],
   "source": [
    "def DFS(L):\n",
    "    global cnt\n",
    "    if L==m:\n",
    "        for i in range(m):\n",
    "            print(ch[i],end=' ')\n",
    "        print()\n",
    "        cnt=cnt+1\n",
    "    else:\n",
    "        for i in range(1,n+1):\n",
    "            ch[L]=i\n",
    "            DFS(L+1)\n",
    "\n",
    "if __name__==\"__main__\":\n",
    "    n,m=map(int,input().split())\n",
    "    a=[i for i in range(1,n+1)]\n",
    "    ch=[0]*(n)\n",
    "    cnt=0\n",
    "    DFS(0)\n",
    "    print(cnt)"
   ]
  },
  {
   "cell_type": "markdown",
   "metadata": {},
   "source": [
    "# 7. 동전교환"
   ]
  },
  {
   "cell_type": "markdown",
   "metadata": {},
   "source": [
    "- 탐욕알고리즘 \n",
    "    - 최적 알고리즘은 아님!!!"
   ]
  },
  {
   "cell_type": "code",
   "execution_count": null,
   "metadata": {},
   "outputs": [],
   "source": [
    "n=int(input())\n",
    "coin_lst=list(map(int,input().split()))\n",
    "coin_lst.sort(reverse=True)\n",
    "m=int(input())\n",
    "cnt=0\n",
    "for x in coin_lst:\n",
    "    coin=m//x # 가장 큰 금액의 동전 개수\n",
    "    print(coin)\n",
    "    cnt+=coin\n",
    "    m-=coin*x\n",
    "print(cnt)"
   ]
  },
  {
   "cell_type": "markdown",
   "metadata": {},
   "source": [
    "- DFS 활용 ( 시간 제한 초과!!! -> 값을 더 쳐내야함 )"
   ]
  },
  {
   "cell_type": "code",
   "execution_count": null,
   "metadata": {},
   "outputs": [],
   "source": [
    "def DFS(L,sum): # L 은 동전의 개수\n",
    "    global min\n",
    "    if sum>m: # 합이 구하는 값보다 크면 패스!\n",
    "        return\n",
    "    if sum==m:\n",
    "        if L<min:\n",
    "            min=L\n",
    "    else:\n",
    "        for x in coin_lst:\n",
    "            DFS(L+1,sum+x)\n",
    "\n",
    "if __name__==\"__main__\":\n",
    "    n=int(input())\n",
    "    coin_lst=list(map(int,input().split()))\n",
    "    m=int(input())\n",
    "    coin_lst.sort(reverse=True)\n",
    "    min=9999\n",
    "    DFS(0,0)\n",
    "    print(min)"
   ]
  },
  {
   "cell_type": "markdown",
   "metadata": {},
   "source": [
    "- 최종"
   ]
  },
  {
   "cell_type": "code",
   "execution_count": null,
   "metadata": {},
   "outputs": [],
   "source": [
    "def DFS(L,sum): # L 은 동전의 개수\n",
    "    global min\n",
    "    if L>min:   # 동전의 개수가 , 구해진 최소 동전개수보다 많다면?? 패스\n",
    "        return\n",
    "    if sum>m:\n",
    "        return\n",
    "    if sum==m:\n",
    "        if L<min:\n",
    "            min=L\n",
    "    else:\n",
    "        for x in coin_lst:\n",
    "            DFS(L+1,sum+x)\n",
    "\n",
    "if __name__==\"__main__\":\n",
    "    n=int(input())\n",
    "    coin_lst=list(map(int,input().split()))\n",
    "    m=int(input())\n",
    "    coin_lst.sort(reverse=True)\n",
    "    min=9999\n",
    "    DFS(0,0)\n",
    "    print(min)"
   ]
  },
  {
   "cell_type": "markdown",
   "metadata": {},
   "source": [
    "# 8. 순열 구하기"
   ]
  },
  {
   "cell_type": "markdown",
   "metadata": {},
   "source": [
    "- from itertools import permutations 사용 (순열함수)"
   ]
  },
  {
   "cell_type": "code",
   "execution_count": 2,
   "metadata": {},
   "outputs": [
    {
     "name": "stdout",
     "output_type": "stream",
     "text": [
      "3 2\n",
      "1 2 \n",
      "1 3 \n",
      "2 1 \n",
      "2 3 \n",
      "3 1 \n",
      "3 2 \n",
      "6\n"
     ]
    }
   ],
   "source": [
    "from itertools import permutations\n",
    "n,m=map(int,input().split())\n",
    "a=[i for i in range(1,n+1)]\n",
    "res=list(permutations(a,m))\n",
    "for x in res:\n",
    "    new_x=list(x)\n",
    "    for i in new_x:\n",
    "        print(i,end=' ')\n",
    "    print()\n",
    "print(len(res))"
   ]
  },
  {
   "cell_type": "markdown",
   "metadata": {},
   "source": [
    "- DFS 활용하기"
   ]
  },
  {
   "cell_type": "code",
   "execution_count": 3,
   "metadata": {},
   "outputs": [
    {
     "name": "stdout",
     "output_type": "stream",
     "text": [
      "3 2\n",
      "1 2 \n",
      "1 3 \n",
      "2 1 \n",
      "2 3 \n",
      "3 1 \n",
      "3 2 \n",
      "6\n"
     ]
    }
   ],
   "source": [
    "def DFS(L):\n",
    "    global cnt\n",
    "    if L==m:\n",
    "        for i in range(L):\n",
    "            print(res[i],end=' ')\n",
    "        print()\n",
    "        cnt+=1\n",
    "    else:\n",
    "        for i in range(1,n+1):\n",
    "            if ch[i]==0:\n",
    "                ch[i] = 1\n",
    "                res[L]=i\n",
    "                DFS(L+1) # 백 트랙킹을 하고 돌아옴\n",
    "                ch[i]=0\n",
    "if __name__==\"__main__\":\n",
    "    cnt=0\n",
    "    n,m=map(int,input().split())\n",
    "    a=[i for i in range(1,n+1)]\n",
    "    res=[0]*n # 결과 리스트\n",
    "    ch=[0]*(n+1) # 체크 리스트\n",
    "    DFS(0)\n",
    "    print(cnt)"
   ]
  },
  {
   "cell_type": "markdown",
   "metadata": {},
   "source": [
    "# 9. 수열 추측하기"
   ]
  },
  {
   "cell_type": "markdown",
   "metadata": {},
   "source": [
    "- 내 풀이"
   ]
  },
  {
   "cell_type": "code",
   "execution_count": null,
   "metadata": {},
   "outputs": [],
   "source": [
    "def sum_list(lst):\n",
    "    tmp=[]\n",
    "    if len(lst)>=2:\n",
    "        for idx in range(1,len(lst)):\n",
    "            tmp.append(lst[idx]+lst[idx-1])\n",
    "        return sum_list(tmp)\n",
    "    else:\n",
    "        return lst[-1]\n",
    "\n",
    "# 순열구하기\n",
    "from itertools import permutations\n",
    "n,m=map(int,input().split())\n",
    "a=[i for i in range(1,n+1)]\n",
    "res=list(permutations(a,n))\n",
    "\n",
    "for x in res:\n",
    "    a=list(x)\n",
    "    if sum_list(a)==m:\n",
    "        break\n",
    "for i in a:\n",
    "    print(i,end=' ')"
   ]
  },
  {
   "cell_type": "markdown",
   "metadata": {},
   "source": [
    "- 해설 ver"
   ]
  },
  {
   "cell_type": "code",
   "execution_count": null,
   "metadata": {},
   "outputs": [],
   "source": [
    "import sys\n",
    "sys.stdin=open(\"input.txt\", \"rt\")\n",
    "def DFS(L, sum):\n",
    "    if L==n and sum==f:\n",
    "        for x in p:\n",
    "            print(x, end=' ')\n",
    "        sys.exit(0)\n",
    "    else:\n",
    "        for i in range(1, n+1):\n",
    "            if ch[i]==0:\n",
    "                ch[i]=1\n",
    "                p[L]=i\n",
    "                DFS(L+1, sum+(p[L]*b[L]))\n",
    "                ch[i]=0\n",
    "\n",
    "if __name__ == \"__main__\":\n",
    "    n, f=map(int, input().split())\n",
    "    p=[0]*n\n",
    "    b=[1]*n\n",
    "    ch=[0]*(n+1)\n",
    "    for i in range(1, n):\n",
    "        b[i]=b[i-1]*(n-i)//i\n",
    "    DFS(0, 0)"
   ]
  },
  {
   "cell_type": "markdown",
   "metadata": {},
   "source": [
    "# 10. 조합구하기"
   ]
  },
  {
   "cell_type": "markdown",
   "metadata": {},
   "source": [
    "- itertools 활용"
   ]
  },
  {
   "cell_type": "code",
   "execution_count": null,
   "metadata": {},
   "outputs": [],
   "source": [
    "from itertools import combinations\n",
    "n,m=map(int,input().split())\n",
    "a=[i for i in range(1,n+1)]\n",
    "res=list(combinations(a,m))\n",
    "for x in res:\n",
    "    new_x=list(x)\n",
    "    for i in new_x:\n",
    "        print(i,end=' ')\n",
    "    print()\n",
    "print(len(res))"
   ]
  },
  {
   "cell_type": "code",
   "execution_count": null,
   "metadata": {},
   "outputs": [],
   "source": [
    "def DFS(L,s):\n",
    "    global cnt\n",
    "    if L==m:\n",
    "        for i in range(L):\n",
    "            print(res[i],end=' ')\n",
    "            cnt+=1\n",
    "        print()\n",
    "    else:\n",
    "        for i in range(s,n+1):\n",
    "            res[L]=i\n",
    "            DFS(L+1,i+1)\n",
    "\n",
    "\n",
    "if __name__==\"__main__\":\n",
    "    n,m=map(int,input().split())\n",
    "    res=[0]*(n+1)\n",
    "    cnt=0\n",
    "    DFS(0,1)\n",
    "    print(cnt)"
   ]
  },
  {
   "cell_type": "markdown",
   "metadata": {},
   "source": [
    "# 11. 수들의 조합"
   ]
  },
  {
   "cell_type": "code",
   "execution_count": null,
   "metadata": {},
   "outputs": [],
   "source": [
    "def sum_combination(lst):\n",
    "    return sum(lst)\n",
    "\n",
    "from itertools import combinations\n",
    "n,k=map(int,input().split())\n",
    "a=list(map(int,input().split()))\n",
    "m=int(input())\n",
    "res=list(combinations(a,k))\n",
    "cnt=0\n",
    "for i in res:\n",
    "    new_i=list(i)\n",
    "    if sum_combination(new_i)%m==0:\n",
    "        cnt+=1\n",
    "print(cnt)"
   ]
  },
  {
   "cell_type": "markdown",
   "metadata": {},
   "source": [
    "# 12. 인접행렬"
   ]
  },
  {
   "cell_type": "code",
   "execution_count": null,
   "metadata": {},
   "outputs": [],
   "source": [
    "n,m=map(int,input().split())\n",
    "a=[]\n",
    "res=[[0]*n for i in range(n)]\n",
    "for i in range(m):\n",
    "    a+=[list(map(int,input().split()))]\n",
    "\n",
    "for i in a:\n",
    "    x=i[0]\n",
    "    y=i[1]\n",
    "    value=i[2]\n",
    "    res[x-1][y-1]=value\n",
    "for T in res:\n",
    "    for t in T:\n",
    "        print(t, end=' ')\n",
    "    print()"
   ]
  },
  {
   "cell_type": "code",
   "execution_count": 2,
   "metadata": {},
   "outputs": [
    {
     "name": "stdout",
     "output_type": "stream",
     "text": [
      "6 9\n",
      "1 2 7\n",
      "1 3 4\n",
      "2 1 2\n",
      "2 3 5\n",
      "2 5 5\n",
      "3 4 5\n",
      " 4 2 2\n",
      "4 5 5\n",
      "6 4 5\n",
      "0 7 4 0 0 0 \n",
      "2 0 5 0 5 0 \n",
      "0 0 0 5 0 0 \n",
      "0 2 0 0 5 0 \n",
      "0 0 0 0 0 0 \n",
      "0 0 0 5 0 0 \n"
     ]
    }
   ],
   "source": [
    "n,m=map(int,input().split())\n",
    "ans=[[0]*(n+1) for i in range(n+1)]\n",
    "for x in range(m):\n",
    "    a,b,c=map(int,input().split())\n",
    "    ans[a][b]=c\n",
    "for i in range(1,n+1):\n",
    "    for j in range(1,n+1):\n",
    "        print(ans[i][j], end=' ')\n",
    "    print()"
   ]
  },
  {
   "cell_type": "markdown",
   "metadata": {},
   "source": [
    "# 13. 경로탐색"
   ]
  },
  {
   "cell_type": "code",
   "execution_count": null,
   "metadata": {},
   "outputs": [],
   "source": [
    "def DFS(v):\n",
    "    global cnt\n",
    "    if v==n:\n",
    "        cnt+=1\n",
    "    else:\n",
    "        for i in range(1,n+1):\n",
    "            if g[v][i]==1 and ch[i]==0:\n",
    "                ch[i]=1\n",
    "                DFS(i)\n",
    "                ch[i]=0\n",
    "\n",
    "if __name__==\"__main__\":\n",
    "    n,m=map(int,input().split())\n",
    "    g=[[0]*(n+1) for i in range(n+1)]\n",
    "    ch=[0]*(n+1)\n",
    "    for i in range(m):\n",
    "        a,b=map(int,input().split())\n",
    "        g[a][b]=1\n",
    "    cnt = 0\n",
    "    ch[1]=1\n",
    "    DFS(1)\n",
    "    print(cnt)"
   ]
  }
 ],
 "metadata": {
  "kernelspec": {
   "display_name": "Python 3",
   "language": "python",
   "name": "python3"
  },
  "language_info": {
   "codemirror_mode": {
    "name": "ipython",
    "version": 3
   },
   "file_extension": ".py",
   "mimetype": "text/x-python",
   "name": "python",
   "nbconvert_exporter": "python",
   "pygments_lexer": "ipython3",
   "version": "3.7.6"
  }
 },
 "nbformat": 4,
 "nbformat_minor": 4
}
