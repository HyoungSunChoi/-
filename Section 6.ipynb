{
 "cells": [
  {
   "cell_type": "markdown",
   "metadata": {},
   "source": [
    "# 1. 재귀함수\n",
    " - 재귀함수를 이용한 이진수 출력\n",
    " - 10진수 N 이 입력되면 2진수로 변환하여 출력하는 프로그램 작성"
   ]
  },
  {
   "cell_type": "code",
   "execution_count": 1,
   "metadata": {},
   "outputs": [
    {
     "name": "stdout",
     "output_type": "stream",
     "text": [
      "12\n",
      "1100"
     ]
    }
   ],
   "source": [
    "n=int(input())\n",
    "def func(n):\n",
    "    if n==0:\n",
    "        return\n",
    "    else:\n",
    "        func(n//2)\n",
    "        print(n%2, end='')\n",
    "func(n)"
   ]
  },
  {
   "cell_type": "markdown",
   "metadata": {},
   "source": [
    "# 2. 이진트리 순회(깊이우선탐색)"
   ]
  },
  {
   "cell_type": "code",
   "execution_count": 10,
   "metadata": {},
   "outputs": [
    {
     "name": "stdout",
     "output_type": "stream",
     "text": [
      "1 2 4 5 3 6 7 "
     ]
    }
   ],
   "source": [
    "# 이진트리 생성\n",
    "def DFS(v):\n",
    "    if v>7:\n",
    "        return\n",
    "    else:\n",
    "        print(v,end=\" \") # 전위순회 방식\n",
    "        DFS(v*2)\n",
    "        print(v, end=\" \") # 중위순회\n",
    "        DFS(v*2+1)\n",
    "        print(v, end=\" \") # 후위순회\n",
    "    \n",
    "\n",
    "if __name__==\"__main__\":\n",
    "    DFS(1)"
   ]
  },
  {
   "cell_type": "markdown",
   "metadata": {},
   "source": [
    "# 3. 부분집합 구하기\n",
    "- 자연수 입력하라\n",
    "- 3이면 1,2,3 / 1,2 / 1,3 / 2,3 / 1 / 2 / 3"
   ]
  },
  {
   "cell_type": "code",
   "execution_count": null,
   "metadata": {},
   "outputs": [],
   "source": [
    "def DFS(v):\n",
    "    if v==n+1:\n",
    "        for i in range(1,n+1):\n",
    "            if ch[i]==1:\n",
    "                print(i,end=' ')\n",
    "        print()\n",
    "    else:\n",
    "        ch[v]=1\n",
    "        DFS(v+1)\n",
    "        ch[v]=0\n",
    "        DFS(v+1)\n",
    "\n",
    "\n",
    "if __name__==\"__main__\":\n",
    "    n=int(input())\n",
    "    ch=[0]*n+1\n",
    "    DFS(1)\n",
    "\n"
   ]
  },
  {
   "cell_type": "markdown",
   "metadata": {},
   "source": [
    "# 4. 합이 같은 부분집합\n"
   ]
  },
  {
   "cell_type": "code",
   "execution_count": null,
   "metadata": {},
   "outputs": [],
   "source": [
    "def DFS(L, sum):\n",
    "    # 시간복잡도를 더 줄일려면 중간 과정을 다 없애야 더 빨라짐\n",
    "    # sum 이 부분집합이 같을려면 ! 전체합\n",
    "    if sum>total//2: # <-- 시간 복잡도 줄이기\n",
    "        return\n",
    "    if L==n:\n",
    "        if sum==(total-sum):\n",
    "            print(\"YES\")\n",
    "            sys.exit(0)\n",
    "    else:\n",
    "        DFS(L+1, sum+a[L])\n",
    "        DFS(L+1, sum)\n",
    "\n",
    "if __name__==\"__main__\":\n",
    "    n=int(input())\n",
    "    a=list(map(int, input().split()))\n",
    "    total=sum(a)\n",
    "    DFS(0, 0)# 시작 점 -> 전체가 다 돌고 맞는값이 없으면 돌아옴\n",
    "    print(\"NO\")\n",
    "\n",
    "\n"
   ]
  },
  {
   "cell_type": "markdown",
   "metadata": {},
   "source": [
    "# 5. 바둑이 승차"
   ]
  },
  {
   "cell_type": "code",
   "execution_count": null,
   "metadata": {},
   "outputs": [],
   "source": [
    "def DFS(L,sum,tsum):\n",
    "    global biggest\n",
    "    if sum+(total-tsum)<biggest: # 현재까지의 바둑이의 합 : sum    , 앞으로 확인해야할 바둑이들의 합 : total-tsum\n",
    "        return\n",
    "    if sum>c:\n",
    "        return\n",
    "    if L==n:\n",
    "        if biggest<sum:\n",
    "            biggest=sum\n",
    "    else:\n",
    "        DFS(L+1,sum+lst[L],tsum+lst[L])\n",
    "        DFS(L+1,sum,tsum+lst[L])\n",
    "\n",
    "if __name__==\"__main__\":\n",
    "    c, n =map(int,input().split())\n",
    "    lst=[]\n",
    "    biggest=0\n",
    "    for _ in range(n):\n",
    "        lst.append(int(input()))\n",
    "    total=sum(lst)\n",
    "    DFS(0,0,0)\n",
    "    print(biggest)\n"
   ]
  }
 ],
 "metadata": {
  "kernelspec": {
   "display_name": "Python 3",
   "language": "python",
   "name": "python3"
  },
  "language_info": {
   "codemirror_mode": {
    "name": "ipython",
    "version": 3
   },
   "file_extension": ".py",
   "mimetype": "text/x-python",
   "name": "python",
   "nbconvert_exporter": "python",
   "pygments_lexer": "ipython3",
   "version": "3.8.3"
  }
 },
 "nbformat": 4,
 "nbformat_minor": 4
}
