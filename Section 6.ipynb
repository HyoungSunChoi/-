{
 "cells": [
  {
   "cell_type": "markdown",
   "metadata": {},
   "source": [
    "# 1. 재귀함수\n",
    " - 재귀함수를 이용한 이진수 출력\n",
    " - 10진수 N 이 입력되면 2진수로 변환하여 출력하는 프로그램 작성"
   ]
  },
  {
   "cell_type": "code",
   "execution_count": 1,
   "metadata": {},
   "outputs": [
    {
     "name": "stdout",
     "output_type": "stream",
     "text": [
      "12\n",
      "1100"
     ]
    }
   ],
   "source": [
    "n=int(input())\n",
    "def func(n):\n",
    "    if n==0:\n",
    "        return\n",
    "    else:\n",
    "        func(n//2)\n",
    "        print(n%2, end='')\n",
    "func(n)"
   ]
  },
  {
   "cell_type": "markdown",
   "metadata": {},
   "source": [
    "# 2. 이진트리 순회(깊이우선탐색)"
   ]
  },
  {
   "cell_type": "code",
   "execution_count": 10,
   "metadata": {},
   "outputs": [
    {
     "name": "stdout",
     "output_type": "stream",
     "text": [
      "1 2 4 5 3 6 7 "
     ]
    }
   ],
   "source": [
    "# 이진트리 생성\n",
    "def DFS(v):\n",
    "    if v>7:\n",
    "        return\n",
    "    else:\n",
    "        print(v,end=\" \") # 전위순회 방식\n",
    "        DFS(v*2)\n",
    "        print(v, end=\" \") # 중위순회\n",
    "        DFS(v*2+1)\n",
    "        print(v, end=\" \") # 후위순회\n",
    "    \n",
    "\n",
    "if __name__==\"__main__\":\n",
    "    DFS(1)"
   ]
  },
  {
   "cell_type": "markdown",
   "metadata": {},
   "source": [
    "# 3. 부분집합 구하기\n",
    "- 자연수 입력하라\n",
    "- 3이면 1,2,3 / 1,2 / 1,3 / 2,3 / 1 / 2 / 3"
   ]
  },
  {
   "cell_type": "code",
   "execution_count": null,
   "metadata": {},
   "outputs": [],
   "source": [
    "n=int(input())\n",
    "def DFS(v):\n",
    "    if v==n+1:"
   ]
  },
  {
   "cell_type": "code",
   "execution_count": null,
   "metadata": {},
   "outputs": [],
   "source": []
  }
 ],
 "metadata": {
  "kernelspec": {
   "display_name": "Python 3",
   "language": "python",
   "name": "python3"
  },
  "language_info": {
   "codemirror_mode": {
    "name": "ipython",
    "version": 3
   },
   "file_extension": ".py",
   "mimetype": "text/x-python",
   "name": "python",
   "nbconvert_exporter": "python",
   "pygments_lexer": "ipython3",
   "version": "3.8.3"
  }
 },
 "nbformat": 4,
 "nbformat_minor": 4
}
