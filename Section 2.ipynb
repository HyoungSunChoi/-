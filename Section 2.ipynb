{
 "cells": [
  {
   "cell_type": "markdown",
   "metadata": {},
   "source": [
    "# 1. K번째 약수 구하기"
   ]
  },
  {
   "cell_type": "markdown",
   "metadata": {},
   "source": [
    "- 옛날 풀이"
   ]
  },
  {
   "cell_type": "code",
   "execution_count": null,
   "metadata": {},
   "outputs": [],
   "source": [
    "import sys\n",
    "n,k = map(int,input().split())\n",
    "a=[]\n",
    "for i in range(1,n+1):\n",
    "    if n%i==0:\n",
    "        a.append(i)\n",
    "if k<=len(a):\n",
    "    print(a[k-1])\n",
    "else:\n",
    "    print(-1)"
   ]
  },
  {
   "cell_type": "markdown",
   "metadata": {},
   "source": [
    "- 내장 리스트 활용하기"
   ]
  },
  {
   "cell_type": "code",
   "execution_count": null,
   "metadata": {},
   "outputs": [],
   "source": [
    "n,k=map(int,input().split())\n",
    "a=[i for i in range(1,n+1) if n%i==0]\n",
    "print(a[k-1])"
   ]
  },
  {
   "cell_type": "markdown",
   "metadata": {},
   "source": [
    "# 2. K번째 수 구하기"
   ]
  },
  {
   "cell_type": "markdown",
   "metadata": {},
   "source": [
    "- print 형식 알아두기"
   ]
  },
  {
   "cell_type": "code",
   "execution_count": null,
   "metadata": {},
   "outputs": [],
   "source": [
    "T=int(input())\n",
    "for _ in range(T):\n",
    "    n,s,e,k=map(int,input().split())\n",
    "    a=list(map(int,input().split()))\n",
    "    a=a[s-1:e]\n",
    "    a.sort()\n",
    "    print('#{} {}'.format(_+1,a[k-1]))"
   ]
  },
  {
   "cell_type": "code",
   "execution_count": null,
   "metadata": {},
   "outputs": [],
   "source": [
    "T=int(input())\n",
    "for t in range(T):\n",
    "    n,s,e,k=map(int,input().split())\n",
    "    a=list(map(int,input().split()))\n",
    "    a=a[s-1:e]\n",
    "    a.sort()\n",
    "    print('#%d %d'%(t+1,a[k-1]))"
   ]
  },
  {
   "cell_type": "markdown",
   "metadata": {},
   "source": [
    "# 3. K번째 큰 수 구하기"
   ]
  },
  {
   "cell_type": "markdown",
   "metadata": {},
   "source": [
    "- itertools 활용하기"
   ]
  },
  {
   "cell_type": "code",
   "execution_count": null,
   "metadata": {},
   "outputs": [],
   "source": [
    "from itertools import combinations\n",
    "n,k=map(int,input().split())\n",
    "a=list(map(int,input().split()))\n",
    "res=list(combinations(a,3))\n",
    "result=set()\n",
    "for i in res:\n",
    "    result.add(sum(i))\n",
    "result=list(result)\n",
    "result.sort(reverse=True)\n",
    "print(result[k-1])"
   ]
  },
  {
   "cell_type": "markdown",
   "metadata": {},
   "source": [
    "- for 문 중복"
   ]
  },
  {
   "cell_type": "code",
   "execution_count": null,
   "metadata": {},
   "outputs": [],
   "source": [
    "n,k=map(int,input().split())\n",
    "a=list(map(int,input().split()))\n",
    "lst=set()\n",
    "for i in range(n):\n",
    "    for j in range(i+1,n):\n",
    "        for x in range(j+1,n):\n",
    "            lst.add(a[i]+a[j]+a[x])\n",
    "lst=list(lst)\n",
    "lst.sort(reverse=True)\n",
    "print(lst[k-1])\n"
   ]
  },
  {
   "cell_type": "markdown",
   "metadata": {},
   "source": [
    "# 4. 대표값"
   ]
  },
  {
   "cell_type": "code",
   "execution_count": null,
   "metadata": {},
   "outputs": [],
   "source": [
    "n=int(input())\n",
    "a=list(map(int, input().split()))\n",
    "avg=round(sum(a)/n)\n",
    "res=9999\n",
    "score=0 # 평균과 가장 가까운 점수\n",
    "stuno=0 # 학생번호\n",
    "for i in range(n):\n",
    "    tmp=abs(a[i]-avg)\n",
    "    if tmp<res: # 평균과 가장 가까운 점수 구하기\n",
    "        res=tmp\n",
    "        score=a[i]\n",
    "        stuno=i+1\n",
    "    if tmp==res:     \n",
    "        if score>a[i]: # 평균과 가까운 점수가 여러개일 경우 점수가 높은 학생이 답\n",
    "            continue\n",
    "        if score==a[i]: # 동일한 점수가 여러개일 경우\n",
    "            continue\n",
    "        score=a[i] \n",
    "        stuno=i+1\n",
    "print(avg,stuno)"
   ]
  },
  {
   "cell_type": "markdown",
   "metadata": {},
   "source": [
    "- index 함수 활용"
   ]
  },
  {
   "cell_type": "code",
   "execution_count": null,
   "metadata": {},
   "outputs": [],
   "source": [
    "import sys\n",
    "sys.stdin=open(\"input.txt\",\"r\")\n",
    "n=int(input())\n",
    "a=list(map(int,input().split()))\n",
    "avg=round(sum(a)/n)\n",
    "res=9999\n",
    "score=0\n",
    "for i in a:\n",
    "    tmp=abs(i-avg)\n",
    "    if tmp<=res:\n",
    "        res=tmp\n",
    "        if i>score:\n",
    "            score=i\n",
    "print(avg, a.index(score)+1)"
   ]
  },
  {
   "cell_type": "markdown",
   "metadata": {},
   "source": [
    "# 5. 정다면체"
   ]
  },
  {
   "cell_type": "code",
   "execution_count": 2,
   "metadata": {},
   "outputs": [
    {
     "name": "stdout",
     "output_type": "stream",
     "text": [
      "4 6\n",
      "5 6 7 "
     ]
    }
   ],
   "source": [
    "n,m=map(int,input().split())\n",
    "ch=[0]*(n+m+1)\n",
    "for i in range(1,n+1):\n",
    "    for j in range(1,m+1):\n",
    "        ch[i+j]+=1\n",
    "big=0\n",
    "for x in ch:\n",
    "    if x>big:\n",
    "        big=x\n",
    "for idx in range(len(ch)):\n",
    "    if ch[idx]==big:\n",
    "        print(idx, end=' ')"
   ]
  },
  {
   "cell_type": "markdown",
   "metadata": {},
   "source": [
    "# 6. 자릿수의 합"
   ]
  },
  {
   "cell_type": "code",
   "execution_count": null,
   "metadata": {},
   "outputs": [],
   "source": [
    "def digit_sum(num):\n",
    "    num=str(num)\n",
    "    res=0\n",
    "    for i in num:\n",
    "        res+=int(i)\n",
    "    return res\n",
    "\n",
    "n=int(input())\n",
    "lst=list(map(int,input().split()))\n",
    "biggest=res=0\n",
    "for x in lst:\n",
    "    if digit_sum(x)>biggest:\n",
    "        biggest=digit_sum(x)\n",
    "        res=x\n",
    "\n",
    "print(res)"
   ]
  },
  {
   "cell_type": "markdown",
   "metadata": {},
   "source": [
    "# 7. 에라토스테네스 체"
   ]
  },
  {
   "cell_type": "code",
   "execution_count": null,
   "metadata": {},
   "outputs": [],
   "source": [
    "n=int(input())\n",
    "ch=[0]*(n+1)\n",
    "cnt=0\n",
    "for i in range(2,n+1):\n",
    "    if ch[i]==0:\n",
    "        cnt+=1\n",
    "        for j in range(i,n+1,i):\n",
    "            ch[i]=1\n",
    "print(cnt)"
   ]
  },
  {
   "cell_type": "markdown",
   "metadata": {},
   "source": [
    "# 8. 뒤집은 소수"
   ]
  },
  {
   "cell_type": "code",
   "execution_count": null,
   "metadata": {},
   "outputs": [],
   "source": [
    "def reverse(x):\n",
    "    x=str(x)\n",
    "    new_x=x[::-1]\n",
    "    return int(new_x)\n",
    "\n",
    "def isPrime(x):\n",
    "    if x==1:\n",
    "        return False\n",
    "    for j in range(2,x):\n",
    "        if x%j==0:\n",
    "            return False\n",
    "    return True\n",
    "\n",
    "n=int(input())\n",
    "a=list(map(int,input().split()))\n",
    "for i in a:\n",
    "    if isPrime(reverse(i))==True:\n",
    "        print(reverse(i))"
   ]
  },
  {
   "cell_type": "code",
   "execution_count": null,
   "metadata": {},
   "outputs": [],
   "source": [
    "def isPrime(x):\n",
    "    cnt=0\n",
    "    for i in range(1,x+1):\n",
    "        if x%i==0:\n",
    "            cnt+=1\n",
    "    if cnt==2:\n",
    "        return True\n",
    "    else:\n",
    "        return False\n",
    "# 자리수 \n",
    "# 리스트에 나열\n",
    "def reverse(x):\n",
    "    res=0\n",
    "    while(x>0):\n",
    "        t=x%10\n",
    "        res=res*10+t\n",
    "        x=x//10\n",
    "    return res\n",
    "\n",
    "n=int(input())\n",
    "a=list(map(int,input().split()))\n",
    "for i in a:\n",
    "    tmp=reverse(i)\n",
    "    if isPrime(tmp):\n",
    "        print(tmp)\n"
   ]
  },
  {
   "cell_type": "markdown",
   "metadata": {},
   "source": [
    "# 9. 주사위 게임"
   ]
  },
  {
   "cell_type": "code",
   "execution_count": null,
   "metadata": {},
   "outputs": [],
   "source": [
    "n=int(input())\n",
    "sum=0\n",
    "for _ in range(n):\n",
    "    a=list(map(int,input().split()))\n",
    "    if a[0]==a[1] and a[0]==a[2]: # 3개 숫자가 다 같은 경우\n",
    "        tmp=10000+1000*a[0]\n",
    "    elif a[0]==a[1] or a[0]==a[2]:\n",
    "        tmp=1000+100*a[0]\n",
    "    elif a[1]==a[2]:\n",
    "        tmp=1000+100*a[0]\n",
    "    else:\n",
    "        tmp=max(a)*100\n",
    "    if tmp>sum:\n",
    "        sum=tmp\n",
    "print(sum)"
   ]
  },
  {
   "cell_type": "markdown",
   "metadata": {},
   "source": [
    "# 10. 점수 계산"
   ]
  },
  {
   "cell_type": "code",
   "execution_count": null,
   "metadata": {},
   "outputs": [],
   "source": [
    "n=int(input())\n",
    "a=list(map(int, input().split()))\n",
    "cnt=0\n",
    "sum=0\n",
    "for i in range(n):\n",
    "    if a[i]==1:\n",
    "        cnt=cnt+1\n",
    "        sum=sum+cnt\n",
    "    else:\n",
    "        cnt=0\n",
    "\n",
    "print(sum)"
   ]
  },
  {
   "cell_type": "code",
   "execution_count": null,
   "metadata": {},
   "outputs": [],
   "source": [
    "n=int(input())\n",
    "ch=list(map(int,input().split()))\n",
    "ch.insert(0,0)\n",
    "res=[0]*(n+1)\n",
    "\n",
    "for i in range(1,len(ch)):\n",
    "    # 첫번째 정답인 경우\n",
    "    if ch[i-1]==0 and ch[i]==1:\n",
    "        res[i]=1\n",
    "    # 두번째 정답인 경우\n",
    "    if ch[i-1]!=0 and ch[i]==1:\n",
    "        res[i]=res[i-1]+1\n",
    "print(sum(res))\n"
   ]
  },
  {
   "cell_type": "code",
   "execution_count": null,
   "metadata": {},
   "outputs": [],
   "source": []
  },
  {
   "cell_type": "code",
   "execution_count": null,
   "metadata": {},
   "outputs": [],
   "source": []
  },
  {
   "cell_type": "code",
   "execution_count": null,
   "metadata": {},
   "outputs": [],
   "source": []
  },
  {
   "cell_type": "code",
   "execution_count": null,
   "metadata": {},
   "outputs": [],
   "source": []
  },
  {
   "cell_type": "code",
   "execution_count": null,
   "metadata": {},
   "outputs": [],
   "source": []
  },
  {
   "cell_type": "code",
   "execution_count": null,
   "metadata": {},
   "outputs": [],
   "source": []
  },
  {
   "cell_type": "code",
   "execution_count": null,
   "metadata": {},
   "outputs": [],
   "source": []
  },
  {
   "cell_type": "code",
   "execution_count": null,
   "metadata": {},
   "outputs": [],
   "source": []
  }
 ],
 "metadata": {
  "kernelspec": {
   "display_name": "Python 3",
   "language": "python",
   "name": "python3"
  },
  "language_info": {
   "codemirror_mode": {
    "name": "ipython",
    "version": 3
   },
   "file_extension": ".py",
   "mimetype": "text/x-python",
   "name": "python",
   "nbconvert_exporter": "python",
   "pygments_lexer": "ipython3",
   "version": "3.7.6"
  }
 },
 "nbformat": 4,
 "nbformat_minor": 4
}
