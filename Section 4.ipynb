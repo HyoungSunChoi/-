{
 "cells": [
  {
   "cell_type": "markdown",
   "metadata": {},
   "source": [
    "# 1. 이분검색"
   ]
  },
  {
   "cell_type": "code",
   "execution_count": null,
   "metadata": {},
   "outputs": [],
   "source": [
    "n,m=map(int,input().split())\n",
    "lst=list(map(int,input().split()))\n",
    "lst.sort()\n",
    "lt=0\n",
    "rt=n-1\n",
    "while lt<=rt:\n",
    "    mid=(lt+rt)//2\n",
    "    if lst[mid]<m:\n",
    "        lt=mid+1\n",
    "    elif lst[mid]==m:\n",
    "        print(mid+1)\n",
    "        break\n",
    "    else:\n",
    "        rt=mid-1"
   ]
  },
  {
   "cell_type": "markdown",
   "metadata": {},
   "source": [
    "# 2. 랜선자르기(결정 알고리즘)"
   ]
  },
  {
   "cell_type": "code",
   "execution_count": null,
   "metadata": {},
   "outputs": [],
   "source": [
    "k,n=map(int,input().split())\n",
    "lan=list()\n",
    "for _ in range(k):\n",
    "    lan.append(int(input()))\n",
    "lan.sort()\n",
    "lt,rt=1,max(lan)\n",
    "res=0\n",
    "def Count(line):\n",
    "    cnt=0\n",
    "    for i in lan:\n",
    "        cnt+=i//line\n",
    "    return cnt\n",
    "\n",
    "while lt<=rt:\n",
    "    mid=(lt+rt)//2\n",
    "    if Count(mid)>=n:\n",
    "        res=mid\n",
    "        lt=mid+1\n",
    "    else:\n",
    "        rt=mid-1\n",
    "print(res)\n"
   ]
  },
  {
   "cell_type": "markdown",
   "metadata": {},
   "source": [
    "# 3. 뮤직비디오(결정 알고리즘)"
   ]
  },
  {
   "cell_type": "code",
   "execution_count": null,
   "metadata": {},
   "outputs": [],
   "source": [
    "n,m=map(int,input().split())\n",
    "album=list(map(int,input().split()))\n",
    "\n",
    "def Count(capacity):\n",
    "    cnt=1\n",
    "    sum=0\n",
    "    for i in album:\n",
    "        if sum+i>capacity:\n",
    "            cnt+=1\n",
    "            sum=i\n",
    "        else:\n",
    "            sum+=i\n",
    "    return cnt\n",
    "\n",
    "lt=album[0]\n",
    "rt=sum(album)\n",
    "res=0\n",
    "while lt<=rt:\n",
    "    mid=(lt+rt)//2\n",
    "    if Count(mid)<=m:\n",
    "        res=mid\n",
    "        rt=mid-1\n",
    "    else:\n",
    "        lt=mid+1\n",
    "print(res)"
   ]
  },
  {
   "cell_type": "markdown",
   "metadata": {},
   "source": [
    "# 4. 마구간 정하기(결정 알고리즘)"
   ]
  },
  {
   "cell_type": "code",
   "execution_count": null,
   "metadata": {},
   "outputs": [],
   "source": [
    " n,c=map(int,input().split())\n",
    "lst=list()\n",
    "for _ in range(n):\n",
    "    lst.append(int(input()))\n",
    "lst.sort()\n",
    "\n",
    "def Count(distance):\n",
    "    cnt=1\n",
    "    sp=lst[0]\n",
    "    for i in range(1,n):\n",
    "        if lst[i]-sp>=distance:\n",
    "            cnt+=1\n",
    "            sp=lst[i]\n",
    "    return cnt\n",
    "\n",
    "lt = 1\n",
    "rt = lst[n - 1]\n",
    "\n",
    "while lt <= rt:\n",
    "    mid = (lt + rt) // 2\n",
    "    if Count(mid) >= c:  # 최대 거리에 있는 말의 마리수\n",
    "        res = mid\n",
    "        lt = mid + 1\n",
    "    else:\n",
    "        rt = mid - 1\n",
    "print(res)"
   ]
  },
  {
   "cell_type": "markdown",
   "metadata": {},
   "source": [
    "# 5. 회의실 배정(그리디)"
   ]
  },
  {
   "cell_type": "code",
   "execution_count": null,
   "metadata": {},
   "outputs": [],
   "source": [
    "n=int(input())\n",
    "List=list()\n",
    "for _ in range(n):\n",
    "    s,e=map(int,input().split())\n",
    "    List.append((s,e))\n",
    "List.sort(key=lambda x:(x[1],x[0]))\n",
    "\n",
    "end_point=cnt=0\n",
    "for s,e in List:\n",
    "    if s>=end_point:\n",
    "        end_point=e\n",
    "        cnt+=1\n",
    "print(cnt)"
   ]
  },
  {
   "cell_type": "markdown",
   "metadata": {},
   "source": [
    "# 6. 씨름 선수(그리디)\n",
    "- 다른 모든 지원자와 일대일 비교하여 키와 몸무게 중 적어도 하나는 크거나\n",
    "- 무거운 지원자만 뽑는다.\n",
    "\n",
    "- 즉 키순으로 정렬한 이후, 무거운 지원자만 기준으로 뽑으면 된다."
   ]
  },
  {
   "cell_type": "code",
   "execution_count": null,
   "metadata": {},
   "outputs": [],
   "source": [
    "import sys\n",
    "sys.stdin=open(\"in1.txt\",\"r\")\n",
    "n=int(input())\n",
    "List=list()\n",
    "for _ in range(n):\n",
    "    height,weight=map(int,input().split())\n",
    "    List.append((height,weight))\n",
    "\n",
    "List.sort(reverse=True)\n",
    "cnt=0\n",
    "large=0\n",
    "\n",
    "for h,w in List:\n",
    "    if w>=large:\n",
    "        cnt+=1\n",
    "        large=w\n",
    "print(cnt)"
   ]
  },
  {
   "cell_type": "markdown",
   "metadata": {},
   "source": [
    "# 7. 창고정리"
   ]
  },
  {
   "cell_type": "code",
   "execution_count": null,
   "metadata": {},
   "outputs": [],
   "source": [
    "import sys\n",
    "L=int(input())\n",
    "List=list(map(int,input().split()))\n",
    "M=int(input())\n",
    "List.sort()\n",
    "for i in range(M): #M번의 횟수만큼\n",
    "\n",
    "    List[0]+=1 # 가장 낮은 곳에 +1\n",
    "    List[-1]-=1 # 가장 높은 곳에 -1\n",
    "    List.sort() # 재배열\n",
    "print(List[-1]-List[0])\n"
   ]
  },
  {
   "cell_type": "markdown",
   "metadata": {},
   "source": [
    "# 8. 침몰하는 타이타닉(그리디)\n",
    "\n",
    ">구명보트는 2명 이하 탑승 가능,\n",
    "보트 한 개 총 몸무게 제한 M kg 이하,\n",
    "총 N 명의 승객 몸무게가 주어졌을 때 모두 탈출하기 위한 구명보트의 최소 개수 출력\n"
   ]
  },
  {
   "cell_type": "code",
   "execution_count": null,
   "metadata": {},
   "outputs": [],
   "source": [
    "n,m=map(int,input().split())\n",
    "weight=list(map(int,input().split()))\n",
    "\n",
    "weight.sort()\n",
    "cnt=0\n",
    "while weight:\n",
    "    if len(weight)==1:\n",
    "        cnt+=1\n",
    "        break\n",
    "    if weight[0]+weight[-1]>m:\n",
    "        cnt+=1\n",
    "        weight.pop()\n",
    "    else:\n",
    "        weight.pop(0)\n",
    "        weight.pop()\n",
    "        cnt+=1\n",
    "print(cnt)"
   ]
  },
  {
   "cell_type": "code",
   "execution_count": null,
   "metadata": {},
   "outputs": [],
   "source": [
    "# deque 를 활용하여 왼쪽, 오른쪽 끝 각각 뽑을 수 있다."
   ]
  },
  {
   "cell_type": "code",
   "execution_count": null,
   "metadata": {},
   "outputs": [],
   "source": [
    "from collections import deque\n",
    "\n",
    "n,m=map(int,input().split())\n",
    "weight=list(map(int,input().split()))\n",
    "\n",
    "weight.sort()\n",
    "weight=deque(weight)\n",
    "cnt=0\n",
    "while weight:\n",
    "    if len(weight)==1:\n",
    "        cnt+=1\n",
    "        break\n",
    "    if weight[0]+weight[-1]>m:\n",
    "        cnt+=1\n",
    "        weight.pop()\n",
    "    else:\n",
    "        weight.popleft()\n",
    "        weight.pop()\n",
    "        cnt+=1\n",
    "print(cnt)"
   ]
  },
  {
   "cell_type": "markdown",
   "metadata": {},
   "source": [
    "# 9. 증가수열 만들기"
   ]
  },
  {
   "cell_type": "code",
   "execution_count": null,
   "metadata": {},
   "outputs": [],
   "source": [
    "# 나의 풀이\n",
    "\n",
    "from collections import deque\n",
    "n=int(input())\n",
    "a=list(map(int,input().split()))\n",
    "a=deque(a)\n",
    "recent=0\n",
    "len=0\n",
    "res=[]\n",
    "while True:\n",
    "    if recent<a[0] and recent<a[-1]:\n",
    "        if a[0]<a[-1]:\n",
    "            len+=1\n",
    "            recent=a.popleft()\n",
    "            res.append(\"L\")\n",
    "        else:\n",
    "            len+=1\n",
    "            recent=a.pop()\n",
    "            res.append(\"R\")\n",
    "    elif recent<a[0] and recent>a[-1]:\n",
    "        len+=1\n",
    "        recent=a.popleft()\n",
    "        res.append(\"L\")\n",
    "    elif recent>a[0] and recent<a[-1]:\n",
    "        len+=1\n",
    "        recent=a.pop()\n",
    "        res.append(\"R\")\n",
    "    else:\n",
    "        break\n",
    "print(len)\n",
    "for i in res:\n",
    "    print(i,end='')"
   ]
  },
  {
   "cell_type": "code",
   "execution_count": null,
   "metadata": {},
   "outputs": [],
   "source": [
    "# 해설 풀이\n",
    "import sys\n",
    "sys.stdin=open(\"in1.txt\",\"r\")\n",
    "n=int(input())\n",
    "a=list(map(int,input().split()))\n",
    "lt=0\n",
    "rt=n-1\n",
    "last=0\n",
    "res=\"\"\n",
    "tmp=[] # 자료 비교용 리스트\n",
    "while lt<=rt:\n",
    "    if a[lt]>last:\n",
    "        tmp.append((a[lt],'L'))\n",
    "    if a[rt]>last:\n",
    "        tmp.append((a[rt],'R'))\n",
    "    tmp.sort()\n",
    "    print(tmp)\n",
    "    if len(tmp)==0:\n",
    "        break\n",
    "    else:\n",
    "        res=res+tmp[0][1] # tmp 리스트의 첫번째 방향(L, R)\n",
    "        last=tmp[0][0]\n",
    "        if tmp[0][1]=='L':\n",
    "            lt+=1\n",
    "        else:\n",
    "            rt-=1\n",
    "    tmp.clear()\n",
    "print(len(res))\n",
    "print(res)"
   ]
  },
  {
   "cell_type": "markdown",
   "metadata": {},
   "source": [
    "# 10. 역수열"
   ]
  },
  {
   "cell_type": "code",
   "execution_count": null,
   "metadata": {},
   "outputs": [],
   "source": [
    "n=int(input())\n",
    "a=list(map(int,input().split()))\n",
    "\n",
    "seq=[0]*n\n",
    "for i in range(n):\n",
    "    for j in range(n):\n",
    "        # 자기자리를 찾아 들어간것\n",
    "        if a[i]==0 and seq[j]==0:\n",
    "            seq[j]=i+1\n",
    "            break\n",
    "        # 자기자리를 찾지 못했으면\n",
    "        elif seq[j]==0:\n",
    "            a[i]-=1\n",
    "for _ in seq:\n",
    "    print(_,end=' ')"
   ]
  }
 ],
 "metadata": {
  "kernelspec": {
   "display_name": "Python 3",
   "language": "python",
   "name": "python3"
  },
  "language_info": {
   "codemirror_mode": {
    "name": "ipython",
    "version": 3
   },
   "file_extension": ".py",
   "mimetype": "text/x-python",
   "name": "python",
   "nbconvert_exporter": "python",
   "pygments_lexer": "ipython3",
   "version": "3.8.3"
  }
 },
 "nbformat": 4,
 "nbformat_minor": 4
}
